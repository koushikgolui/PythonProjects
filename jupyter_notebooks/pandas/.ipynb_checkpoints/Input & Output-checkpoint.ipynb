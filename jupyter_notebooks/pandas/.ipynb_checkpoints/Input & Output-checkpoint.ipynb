{
 "cells": [
  {
   "cell_type": "code",
   "execution_count": 1,
   "id": "e5f49ae8",
   "metadata": {},
   "outputs": [],
   "source": [
    "import pandas as pd"
   ]
  },
  {
   "cell_type": "code",
   "execution_count": 2,
   "id": "7d1fe2f5",
   "metadata": {},
   "outputs": [
    {
     "data": {
      "text/html": [
       "<div>\n",
       "<style scoped>\n",
       "    .dataframe tbody tr th:only-of-type {\n",
       "        vertical-align: middle;\n",
       "    }\n",
       "\n",
       "    .dataframe tbody tr th {\n",
       "        vertical-align: top;\n",
       "    }\n",
       "\n",
       "    .dataframe thead th {\n",
       "        text-align: right;\n",
       "    }\n",
       "</style>\n",
       "<table border=\"1\" class=\"dataframe\">\n",
       "  <thead>\n",
       "    <tr style=\"text-align: right;\">\n",
       "      <th></th>\n",
       "      <th>First Name</th>\n",
       "      <th>Last Name</th>\n",
       "      <th>City</th>\n",
       "      <th>Gender</th>\n",
       "    </tr>\n",
       "  </thead>\n",
       "  <tbody>\n",
       "    <tr>\n",
       "      <th>0</th>\n",
       "      <td>Brandon</td>\n",
       "      <td>James</td>\n",
       "      <td>Miami</td>\n",
       "      <td>M</td>\n",
       "    </tr>\n",
       "    <tr>\n",
       "      <th>1</th>\n",
       "      <td>Sean</td>\n",
       "      <td>Hawkins</td>\n",
       "      <td>Denver</td>\n",
       "      <td>M</td>\n",
       "    </tr>\n",
       "    <tr>\n",
       "      <th>2</th>\n",
       "      <td>Judy</td>\n",
       "      <td>Day</td>\n",
       "      <td>Los Angeles</td>\n",
       "      <td>F</td>\n",
       "    </tr>\n",
       "    <tr>\n",
       "      <th>3</th>\n",
       "      <td>Ashley</td>\n",
       "      <td>Ruiz</td>\n",
       "      <td>San Francisco</td>\n",
       "      <td>F</td>\n",
       "    </tr>\n",
       "    <tr>\n",
       "      <th>4</th>\n",
       "      <td>Stephanie</td>\n",
       "      <td>Gomez</td>\n",
       "      <td>Portland</td>\n",
       "      <td>F</td>\n",
       "    </tr>\n",
       "  </tbody>\n",
       "</table>\n",
       "</div>"
      ],
      "text/plain": [
       "  First Name Last Name           City Gender\n",
       "0    Brandon     James          Miami      M\n",
       "1       Sean   Hawkins         Denver      M\n",
       "2       Judy       Day    Los Angeles      F\n",
       "3     Ashley      Ruiz  San Francisco      F\n",
       "4  Stephanie     Gomez       Portland      F"
      ]
     },
     "execution_count": 2,
     "metadata": {},
     "output_type": "execute_result"
    }
   ],
   "source": [
    "pd.read_excel(\"Data - Single Worksheet.xlsx\")"
   ]
  },
  {
   "cell_type": "code",
   "execution_count": 7,
   "id": "48f6f457",
   "metadata": {},
   "outputs": [
    {
     "data": {
      "text/plain": [
       "{'Data 1':   First Name Last Name           City Gender\n",
       " 0    Brandon     James          Miami      M\n",
       " 1       Sean   Hawkins         Denver      M\n",
       " 2       Judy       Day    Los Angeles      F\n",
       " 3     Ashley      Ruiz  San Francisco      F\n",
       " 4  Stephanie     Gomez       Portland      F,\n",
       " 'Data 2':   First Name Last Name           City Gender\n",
       " 0     Parker     Power        Raleigh      F\n",
       " 1    Preston  Prescott   Philadelphia      F\n",
       " 2    Ronaldo   Donaldo         Bangor      M\n",
       " 3      Megan   Stiller  San Francisco      M\n",
       " 4     Bustin    Jieber         Austin      F}"
      ]
     },
     "execution_count": 7,
     "metadata": {},
     "output_type": "execute_result"
    }
   ],
   "source": [
    "pd.read_excel(\"Data - Multiple Worksheets.xlsx\", sheet_name = [\"Data 1\", \"Data 2\"])"
   ]
  },
  {
   "cell_type": "code",
   "execution_count": 10,
   "id": "28e4147d",
   "metadata": {},
   "outputs": [],
   "source": [
    "df = pd.read_parquet(\"part-00000-tid-2280722015745815733-95cc362c-099d-4fc8-9556-d4dbcf3f940c-1-1-c000.snappy.parquet\")"
   ]
  },
  {
   "cell_type": "code",
   "execution_count": 11,
   "id": "78674f1a",
   "metadata": {},
   "outputs": [
    {
     "data": {
      "text/html": [
       "<div>\n",
       "<style scoped>\n",
       "    .dataframe tbody tr th:only-of-type {\n",
       "        vertical-align: middle;\n",
       "    }\n",
       "\n",
       "    .dataframe tbody tr th {\n",
       "        vertical-align: top;\n",
       "    }\n",
       "\n",
       "    .dataframe thead th {\n",
       "        text-align: right;\n",
       "    }\n",
       "</style>\n",
       "<table border=\"1\" class=\"dataframe\">\n",
       "  <thead>\n",
       "    <tr style=\"text-align: right;\">\n",
       "      <th></th>\n",
       "      <th>Id</th>\n",
       "      <th>Correlationid</th>\n",
       "      <th>Operationname</th>\n",
       "      <th>Status</th>\n",
       "      <th>Eventcategory</th>\n",
       "      <th>Level</th>\n",
       "      <th>Time</th>\n",
       "      <th>Subscription</th>\n",
       "      <th>Eventinitiatedby</th>\n",
       "      <th>Resourcetype</th>\n",
       "      <th>Resourcegroup</th>\n",
       "    </tr>\n",
       "  </thead>\n",
       "  <tbody>\n",
       "    <tr>\n",
       "      <th>0</th>\n",
       "      <td>1</td>\n",
       "      <td>66641e13-d19f-4ce5-aafd-9d5d7befa557</td>\n",
       "      <td>Delete SQL database</td>\n",
       "      <td>Succeeded</td>\n",
       "      <td>Administrative</td>\n",
       "      <td>Informational</td>\n",
       "      <td>2021-06-15 04:44:38.223</td>\n",
       "      <td>20c6eec9-2d80-4700-b0f6-4fde579a8783</td>\n",
       "      <td>Microsoft Azure Synapse Resource Provider</td>\n",
       "      <td>Microsoft.Sql/servers/databases</td>\n",
       "      <td>synapseworkspace-managedrg-bd2eb25e-aba7-4f43-...</td>\n",
       "    </tr>\n",
       "    <tr>\n",
       "      <th>1</th>\n",
       "      <td>2</td>\n",
       "      <td>66641e13-d19f-4ce5-aafd-9d5d7befa557</td>\n",
       "      <td>Delete SQL database</td>\n",
       "      <td>Started</td>\n",
       "      <td>Administrative</td>\n",
       "      <td>Informational</td>\n",
       "      <td>2021-06-15 04:44:21.547</td>\n",
       "      <td>20c6eec9-2d80-4700-b0f6-4fde579a8783</td>\n",
       "      <td>Microsoft Azure Synapse Resource Provider</td>\n",
       "      <td>Microsoft.Sql/servers/databases</td>\n",
       "      <td>synapseworkspace-managedrg-bd2eb25e-aba7-4f43-...</td>\n",
       "    </tr>\n",
       "    <tr>\n",
       "      <th>2</th>\n",
       "      <td>3</td>\n",
       "      <td>66641e13-d19f-4ce5-aafd-9d5d7befa557</td>\n",
       "      <td>Delete SQL database</td>\n",
       "      <td>Accepted</td>\n",
       "      <td>Administrative</td>\n",
       "      <td>Informational</td>\n",
       "      <td>2021-06-15 04:44:21.702</td>\n",
       "      <td>20c6eec9-2d80-4700-b0f6-4fde579a8783</td>\n",
       "      <td>Microsoft Azure Synapse Resource Provider</td>\n",
       "      <td>Microsoft.Sql/servers/databases</td>\n",
       "      <td>synapseworkspace-managedrg-bd2eb25e-aba7-4f43-...</td>\n",
       "    </tr>\n",
       "  </tbody>\n",
       "</table>\n",
       "</div>"
      ],
      "text/plain": [
       "   Id                         Correlationid        Operationname     Status  \\\n",
       "0   1  66641e13-d19f-4ce5-aafd-9d5d7befa557  Delete SQL database  Succeeded   \n",
       "1   2  66641e13-d19f-4ce5-aafd-9d5d7befa557  Delete SQL database    Started   \n",
       "2   3  66641e13-d19f-4ce5-aafd-9d5d7befa557  Delete SQL database   Accepted   \n",
       "\n",
       "    Eventcategory          Level                    Time  \\\n",
       "0  Administrative  Informational 2021-06-15 04:44:38.223   \n",
       "1  Administrative  Informational 2021-06-15 04:44:21.547   \n",
       "2  Administrative  Informational 2021-06-15 04:44:21.702   \n",
       "\n",
       "                           Subscription  \\\n",
       "0  20c6eec9-2d80-4700-b0f6-4fde579a8783   \n",
       "1  20c6eec9-2d80-4700-b0f6-4fde579a8783   \n",
       "2  20c6eec9-2d80-4700-b0f6-4fde579a8783   \n",
       "\n",
       "                            Eventinitiatedby                     Resourcetype  \\\n",
       "0  Microsoft Azure Synapse Resource Provider  Microsoft.Sql/servers/databases   \n",
       "1  Microsoft Azure Synapse Resource Provider  Microsoft.Sql/servers/databases   \n",
       "2  Microsoft Azure Synapse Resource Provider  Microsoft.Sql/servers/databases   \n",
       "\n",
       "                                       Resourcegroup  \n",
       "0  synapseworkspace-managedrg-bd2eb25e-aba7-4f43-...  \n",
       "1  synapseworkspace-managedrg-bd2eb25e-aba7-4f43-...  \n",
       "2  synapseworkspace-managedrg-bd2eb25e-aba7-4f43-...  "
      ]
     },
     "execution_count": 11,
     "metadata": {},
     "output_type": "execute_result"
    }
   ],
   "source": [
    "df.head(3)"
   ]
  },
  {
   "cell_type": "code",
   "execution_count": 12,
   "id": "5ec92d40",
   "metadata": {},
   "outputs": [
    {
     "data": {
      "text/plain": [
       "0       2021-06-15 04:44:38.223\n",
       "1       2021-06-15 04:44:21.547\n",
       "2       2021-06-15 04:44:21.702\n",
       "3       2021-06-15 04:44:31.332\n",
       "4       2021-06-15 04:44:12.533\n",
       "                  ...          \n",
       "17928   2021-05-01 18:14:01.746\n",
       "17929   2021-05-01 18:14:01.946\n",
       "17930   2021-05-01 18:14:13.424\n",
       "17931   2021-05-01 18:14:24.239\n",
       "17932   2021-05-01 18:14:57.722\n",
       "Name: Time, Length: 17933, dtype: datetime64[ns]"
      ]
     },
     "execution_count": 12,
     "metadata": {},
     "output_type": "execute_result"
    }
   ],
   "source": [
    "df[\"Time\"]"
   ]
  },
  {
   "cell_type": "code",
   "execution_count": null,
   "id": "23f295ec",
   "metadata": {},
   "outputs": [],
   "source": []
  }
 ],
 "metadata": {
  "kernelspec": {
   "display_name": "Python 3 (ipykernel)",
   "language": "python",
   "name": "python3"
  },
  "language_info": {
   "codemirror_mode": {
    "name": "ipython",
    "version": 3
   },
   "file_extension": ".py",
   "mimetype": "text/x-python",
   "name": "python",
   "nbconvert_exporter": "python",
   "pygments_lexer": "ipython3",
   "version": "3.10.4"
  }
 },
 "nbformat": 4,
 "nbformat_minor": 5
}
