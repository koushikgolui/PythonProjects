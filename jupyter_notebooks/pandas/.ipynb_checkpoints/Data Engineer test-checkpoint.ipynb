{
 "cells": [
  {
   "cell_type": "code",
   "execution_count": 6,
   "id": "85221941",
   "metadata": {},
   "outputs": [
    {
     "data": {
      "text/plain": [
       "[('Have', 'free'),\n",
       " ('free', 'hours'),\n",
       " ('hours', 'and'),\n",
       " ('and', 'love'),\n",
       " ('love', 'children?'),\n",
       " ('children?', 'Drive'),\n",
       " ('Drive', 'kids'),\n",
       " ('kids', 'to'),\n",
       " ('to', 'school,'),\n",
       " ('school,', 'soccer'),\n",
       " ('soccer', 'practice'),\n",
       " ('practice', 'and'),\n",
       " ('and', 'other'),\n",
       " ('other', 'activities.')]"
      ]
     },
     "execution_count": 6,
     "metadata": {},
     "output_type": "execute_result"
    }
   ],
   "source": [
    "def find_bigrams(sentence):\n",
    "    bigram = []\n",
    "    word_list = sentence.split()\n",
    "    for i in range(0,len(word_list)-1):\n",
    "        bigram_tuple = (word_list[i], word_list[i+1])\n",
    "        bigram.append(bigram_tuple)\n",
    "    \n",
    "    return bigram\n",
    "\n",
    "sentence = \"\"\"\n",
    "Have free hours and love children? \n",
    "Drive kids to school, soccer practice \n",
    "and other activities.\n",
    "\"\"\"\n",
    "find_bigrams(sentence)"
   ]
  },
  {
   "cell_type": "code",
   "execution_count": 4,
   "id": "4045eca5",
   "metadata": {},
   "outputs": [
    {
     "name": "stdout",
     "output_type": "stream",
     "text": [
      "('Have', 'free')\n",
      "('free', 'hours')\n",
      "('hours', 'and')\n",
      "('and', 'love')\n",
      "('love', 'children?')\n",
      "('children?', 'Drive')\n",
      "('Drive', 'kids')\n",
      "('kids', 'to')\n",
      "('to', 'school,')\n",
      "('school,', 'soccer')\n",
      "('soccer', 'practice')\n",
      "('practice', 'and')\n",
      "('and', 'other')\n",
      "('other', 'activities.')\n"
     ]
    },
    {
     "data": {
      "text/plain": [
       "[('Have', 'free'),\n",
       " ('free', 'hours'),\n",
       " ('hours', 'and'),\n",
       " ('and', 'love'),\n",
       " ('love', 'children?'),\n",
       " ('children?', 'Drive'),\n",
       " ('Drive', 'kids'),\n",
       " ('kids', 'to'),\n",
       " ('to', 'school,'),\n",
       " ('school,', 'soccer'),\n",
       " ('soccer', 'practice'),\n",
       " ('practice', 'and'),\n",
       " ('and', 'other'),\n",
       " ('other', 'activities.')]"
      ]
     },
     "execution_count": 4,
     "metadata": {},
     "output_type": "execute_result"
    }
   ],
   "source": [
    "def find_bigrams(sentence):\n",
    "    bigram = []\n",
    "    i = 0\n",
    "    word_list = sentence.split()\n",
    "    while i < len(word_list)-1:\n",
    "        \n",
    "        bigram_tuple = (word_list[i], word_list[i+1])\n",
    "        print(bigram_tuple)\n",
    "        bigram.append(bigram_tuple)\n",
    "        i += 1\n",
    "    \n",
    "    return bigram\n",
    "\n",
    "sentence = \"\"\"\n",
    "Have free hours and love children? \n",
    "Drive kids to school, soccer practice \n",
    "and other activities.\n",
    "\"\"\"\n",
    "find_bigrams(sentence)"
   ]
  },
  {
   "cell_type": "code",
   "execution_count": 1,
   "id": "300c4730",
   "metadata": {},
   "outputs": [],
   "source": [
    "from datetime import datetime, timedelta"
   ]
  },
  {
   "cell_type": "code",
   "execution_count": 36,
   "id": "f1601c9d",
   "metadata": {},
   "outputs": [
    {
     "name": "stdout",
     "output_type": "stream",
     "text": [
      "<class 'str'>\n",
      "2019-01-01 00:00:00\n",
      "2019-01-02 00:00:00\n",
      "2019-01-08 00:00:00\n",
      "2019-01-08 00:00:00\n",
      "2019-02-05 00:00:00\n"
     ]
    },
    {
     "data": {
      "text/plain": [
       "[[datetime.datetime(2019, 1, 1, 0, 0), datetime.datetime(2019, 1, 2, 0, 0)],\n",
       " [datetime.datetime(2019, 1, 2, 0, 0), datetime.datetime(2019, 1, 8, 0, 0)],\n",
       " [datetime.datetime(2019, 1, 8, 0, 0)],\n",
       " [datetime.datetime(2019, 1, 8, 0, 0),\n",
       "  datetime.datetime(2019, 2, 1, 0, 0),\n",
       "  datetime.datetime(2019, 2, 2, 0, 0),\n",
       "  datetime.datetime(2019, 2, 5, 0, 0)],\n",
       " [],\n",
       " [datetime.datetime(2019, 2, 5, 0, 0)]]"
      ]
     },
     "execution_count": 36,
     "metadata": {},
     "output_type": "execute_result"
    }
   ],
   "source": [
    "ts = [\n",
    "    '2019-01-01', \n",
    "    '2019-01-02',\n",
    "    '2019-01-08', \n",
    "    '2019-02-01', \n",
    "    '2019-02-02',\n",
    "    '2019-02-05',\n",
    "]\n",
    "\n",
    "\n",
    "def weekly_aggregation(ts):\n",
    "    print(type(ts[0]))\n",
    "    final_list = []\n",
    "    date_last_fecthed = datetime.strptime(ts[0], '%Y-%m-%d') \n",
    "    for item in ts:\n",
    "        item_date = datetime.strptime(item, '%Y-%m-%d')\n",
    "        date_with_in_week =[]\n",
    "        if item_date < date_last_fecthed:\n",
    "            ''\n",
    "        else:\n",
    "            week_date = item_date + timedelta(days = 7)\n",
    "            date_with_in_week = [datetime.strptime(dateitem, '%Y-%m-%d') for dateitem in ts \\\n",
    "                                 if datetime.strptime(dateitem, '%Y-%m-%d') < week_date and \\\n",
    "                                datetime.strptime(dateitem, '%Y-%m-%d') >= date_last_fecthed \n",
    "                                ]\n",
    "            \n",
    "            print(date_last_fecthed)\n",
    "            date_last_fecthed = date_with_in_week[-1]\n",
    "        \n",
    "        final_list.append(date_with_in_week)\n",
    "    return final_list\n",
    "#     already_used_list = []\n",
    "#     index_of_last_item = 0\n",
    "#     for date in ts:\n",
    "#         if date in already_used_list:\n",
    "#             continue\n",
    "#         else:\n",
    "#             new_date = datetime.strptime(date, '%Y-%m-%d')\n",
    "#             week_date = new_date + timedelta(days = 7)\n",
    "#             print(f\"new date :{new_date} week date : {week_date}\")\n",
    "#             date_in_week=[]\n",
    "#             for j in range(ts.index(date), len(ts)-1):\n",
    "#             if ts[j] in already_used_list:\n",
    "#                 continue\n",
    "#             elif datetime.strptime(ts[j], '%Y-%m-%d') < week_date:\n",
    "#                 date_in_week.append(ts[j])\n",
    "#                 already_used_list.append(ts[j])\n",
    "            \n",
    "\n",
    "#         if len(date_in_week) > 0:\n",
    "#             print(f\"date in week : {date_in_week}\")\n",
    "#             final_list.append(date_in_week)\n",
    "#         print(f\"already used: {already_used_list}\")\n",
    "#     return final_list\n",
    "    \n",
    "\n",
    "weekly_aggregation(ts)\n",
    "\n",
    "# -> [\n",
    "#     ['2019-01-01', '2019-01-02'], \n",
    "#     ['2019-01-08'], \n",
    "#     ['2019-02-01', '2019-02-02'],\n",
    "#     ['2019-02-05'],\n",
    "# ]"
   ]
  },
  {
   "cell_type": "code",
   "execution_count": 38,
   "id": "60192e2a",
   "metadata": {},
   "outputs": [
    {
     "name": "stdout",
     "output_type": "stream",
     "text": [
      "no\n"
     ]
    }
   ],
   "source": [
    "ts = [\n",
    "    ['2019-01-01', '2019-01-02'], \n",
    "    ['2019-01-08'], \n",
    "    ['2019-02-01', '2019-02-02'],\n",
    "    ['2019-02-05'],\n",
    "]\n",
    "\n",
    "if '2019-01-01' in ts:\n",
    "    print(\"yes\")\n",
    "else:\n",
    "    print(\"no\")"
   ]
  },
  {
   "cell_type": "code",
   "execution_count": 33,
   "id": "8b2c7a9a",
   "metadata": {},
   "outputs": [
    {
     "data": {
      "text/plain": [
       "['2019-01-01',\n",
       " '2019-01-02',\n",
       " '2019-01-08',\n",
       " '2019-02-01',\n",
       " '2019-02-02',\n",
       " '2019-02-05']"
      ]
     },
     "execution_count": 33,
     "metadata": {},
     "output_type": "execute_result"
    }
   ],
   "source": [
    "ts"
   ]
  },
  {
   "cell_type": "code",
   "execution_count": 13,
   "id": "806cd83b",
   "metadata": {},
   "outputs": [
    {
     "data": {
      "text/plain": [
       "datetime.datetime(2011, 5, 2, 0, 0)"
      ]
     },
     "execution_count": 13,
     "metadata": {},
     "output_type": "execute_result"
    }
   ],
   "source": [
    "datetime.strptime('2011-02-02', '%Y-%m-%d')\n",
    "datetime.strptime('99-02-02', '%y-%m-%d')\n",
    "datetime.strptime('2011-may-02', '%Y-%b-%d')"
   ]
  },
  {
   "cell_type": "code",
   "execution_count": 14,
   "id": "2d7b94cd",
   "metadata": {},
   "outputs": [
    {
     "data": {
      "text/plain": [
       "datetime.datetime(2022, 7, 20, 21, 27, 47, 764105)"
      ]
     },
     "execution_count": 14,
     "metadata": {},
     "output_type": "execute_result"
    }
   ],
   "source": [
    "datetime.today()"
   ]
  },
  {
   "cell_type": "code",
   "execution_count": 20,
   "id": "681bffaf",
   "metadata": {},
   "outputs": [
    {
     "ename": "TypeError",
     "evalue": "can only concatenate list (not \"int\") to list",
     "output_type": "error",
     "traceback": [
      "\u001b[1;31m---------------------------------------------------------------------------\u001b[0m",
      "\u001b[1;31mTypeError\u001b[0m                                 Traceback (most recent call last)",
      "Input \u001b[1;32mIn [20]\u001b[0m, in \u001b[0;36m<cell line: 2>\u001b[1;34m()\u001b[0m\n\u001b[0;32m      1\u001b[0m lst \u001b[38;5;241m=\u001b[39m [[\u001b[38;5;241m2\u001b[39m,\u001b[38;5;241m3\u001b[39m], \u001b[38;5;241m4\u001b[39m, [\u001b[38;5;241m5\u001b[39m,\u001b[38;5;241m6\u001b[39m]]\n\u001b[1;32m----> 2\u001b[0m final_lst \u001b[38;5;241m=\u001b[39m\u001b[38;5;28;43msum\u001b[39;49m\u001b[43m(\u001b[49m\u001b[43mlst\u001b[49m\u001b[43m,\u001b[49m\u001b[43m[\u001b[49m\u001b[43m]\u001b[49m\u001b[43m)\u001b[49m\n",
      "\u001b[1;31mTypeError\u001b[0m: can only concatenate list (not \"int\") to list"
     ]
    }
   ],
   "source": [
    "lst = [[2,3], 4, [5,6]]\n"
   ]
  },
  {
   "cell_type": "code",
   "execution_count": 21,
   "id": "e22463ff",
   "metadata": {},
   "outputs": [
    {
     "name": "stdout",
     "output_type": "stream",
     "text": [
      "['Hello', 'World!', 'Lets', 'Eat!']\n"
     ]
    }
   ],
   "source": [
    "text = [[\"Hello\", \"World!\"], [\"Lets\", \"Eat!\"]]\n",
    "\n",
    "double_comprehension = [word for words in text for word in words]\n",
    "\n",
    "print(double_comprehension)"
   ]
  },
  {
   "cell_type": "code",
   "execution_count": 22,
   "id": "be67f96d",
   "metadata": {},
   "outputs": [
    {
     "name": "stdout",
     "output_type": "stream",
     "text": [
      "['Hello', 'World!', 'Lets', 'Eat!']\n"
     ]
    }
   ],
   "source": [
    "text = [[\"Hello\", \"World!\"], [\"Lets\", \"Eat!\"]]\n",
    "final_lst = []\n",
    "for words in text:\n",
    "    for word in words:\n",
    "        final_lst.append(word)\n",
    "print(final_lst)\n",
    "        "
   ]
  },
  {
   "cell_type": "code",
   "execution_count": 1,
   "id": "d95ee77b",
   "metadata": {},
   "outputs": [],
   "source": [
    "import pandas as pd"
   ]
  },
  {
   "cell_type": "code",
   "execution_count": 13,
   "id": "73a67774",
   "metadata": {},
   "outputs": [],
   "source": [
    "df = pd.DataFrame({\n",
    "    \"col1\": [1,2,3,4,5,6],\n",
    "    \"col2\": [\"A\", \"b\", \"c\", \"D\", \"E\", \"F\"]\n",
    "}, index = [\"id1\",\"id2\",\"id3\",\"id4\",\"id5\",\"id6\"])"
   ]
  },
  {
   "cell_type": "code",
   "execution_count": 14,
   "id": "ead27b21",
   "metadata": {},
   "outputs": [
    {
     "data": {
      "text/html": [
       "<div>\n",
       "<style scoped>\n",
       "    .dataframe tbody tr th:only-of-type {\n",
       "        vertical-align: middle;\n",
       "    }\n",
       "\n",
       "    .dataframe tbody tr th {\n",
       "        vertical-align: top;\n",
       "    }\n",
       "\n",
       "    .dataframe thead th {\n",
       "        text-align: right;\n",
       "    }\n",
       "</style>\n",
       "<table border=\"1\" class=\"dataframe\">\n",
       "  <thead>\n",
       "    <tr style=\"text-align: right;\">\n",
       "      <th></th>\n",
       "      <th>col1</th>\n",
       "      <th>col2</th>\n",
       "    </tr>\n",
       "  </thead>\n",
       "  <tbody>\n",
       "    <tr>\n",
       "      <th>id1</th>\n",
       "      <td>1</td>\n",
       "      <td>A</td>\n",
       "    </tr>\n",
       "    <tr>\n",
       "      <th>id2</th>\n",
       "      <td>2</td>\n",
       "      <td>b</td>\n",
       "    </tr>\n",
       "    <tr>\n",
       "      <th>id3</th>\n",
       "      <td>3</td>\n",
       "      <td>c</td>\n",
       "    </tr>\n",
       "    <tr>\n",
       "      <th>id4</th>\n",
       "      <td>4</td>\n",
       "      <td>D</td>\n",
       "    </tr>\n",
       "    <tr>\n",
       "      <th>id5</th>\n",
       "      <td>5</td>\n",
       "      <td>E</td>\n",
       "    </tr>\n",
       "    <tr>\n",
       "      <th>id6</th>\n",
       "      <td>6</td>\n",
       "      <td>F</td>\n",
       "    </tr>\n",
       "  </tbody>\n",
       "</table>\n",
       "</div>"
      ],
      "text/plain": [
       "     col1 col2\n",
       "id1     1    A\n",
       "id2     2    b\n",
       "id3     3    c\n",
       "id4     4    D\n",
       "id5     5    E\n",
       "id6     6    F"
      ]
     },
     "execution_count": 14,
     "metadata": {},
     "output_type": "execute_result"
    }
   ],
   "source": [
    "df"
   ]
  },
  {
   "cell_type": "code",
   "execution_count": 32,
   "id": "3b4a30be",
   "metadata": {},
   "outputs": [
    {
     "data": {
      "text/html": [
       "<div>\n",
       "<style scoped>\n",
       "    .dataframe tbody tr th:only-of-type {\n",
       "        vertical-align: middle;\n",
       "    }\n",
       "\n",
       "    .dataframe tbody tr th {\n",
       "        vertical-align: top;\n",
       "    }\n",
       "\n",
       "    .dataframe thead th {\n",
       "        text-align: right;\n",
       "    }\n",
       "</style>\n",
       "<table border=\"1\" class=\"dataframe\">\n",
       "  <thead>\n",
       "    <tr style=\"text-align: right;\">\n",
       "      <th></th>\n",
       "      <th>col1</th>\n",
       "      <th>col2</th>\n",
       "    </tr>\n",
       "  </thead>\n",
       "  <tbody>\n",
       "    <tr>\n",
       "      <th>id2</th>\n",
       "      <td>2</td>\n",
       "      <td>b</td>\n",
       "    </tr>\n",
       "  </tbody>\n",
       "</table>\n",
       "</div>"
      ],
      "text/plain": [
       "     col1 col2\n",
       "id2     2    b"
      ]
     },
     "execution_count": 32,
     "metadata": {},
     "output_type": "execute_result"
    }
   ],
   "source": [
    "index = df[df[\"col1\"] == 2].index\n",
    "df.loc[index]"
   ]
  },
  {
   "cell_type": "code",
   "execution_count": 11,
   "id": "c09f253f",
   "metadata": {},
   "outputs": [
    {
     "data": {
      "text/plain": [
       "col1    1\n",
       "col2    A\n",
       "Name: 1, dtype: object"
      ]
     },
     "execution_count": 11,
     "metadata": {},
     "output_type": "execute_result"
    }
   ],
   "source": [
    "df.iloc[0]"
   ]
  },
  {
   "cell_type": "code",
   "execution_count": 33,
   "id": "9182f540",
   "metadata": {},
   "outputs": [],
   "source": [
    "from datetime import datetime"
   ]
  },
  {
   "cell_type": "code",
   "execution_count": 34,
   "id": "ba5845c2",
   "metadata": {},
   "outputs": [],
   "source": [
    "mystring = \"Hello World!\""
   ]
  },
  {
   "cell_type": "code",
   "execution_count": 35,
   "id": "eb97549f",
   "metadata": {},
   "outputs": [
    {
     "data": {
      "text/plain": [
       "'H'"
      ]
     },
     "execution_count": 35,
     "metadata": {},
     "output_type": "execute_result"
    }
   ],
   "source": [
    "mystring[0]"
   ]
  },
  {
   "cell_type": "code",
   "execution_count": 36,
   "id": "01a8cc10",
   "metadata": {},
   "outputs": [
    {
     "data": {
      "text/plain": [
       "'l'"
      ]
     },
     "execution_count": 36,
     "metadata": {},
     "output_type": "execute_result"
    }
   ],
   "source": [
    "mystring[9]"
   ]
  },
  {
   "cell_type": "code",
   "execution_count": 37,
   "id": "a46ad47d",
   "metadata": {},
   "outputs": [
    {
     "data": {
      "text/plain": [
       "'l'"
      ]
     },
     "execution_count": 37,
     "metadata": {},
     "output_type": "execute_result"
    }
   ],
   "source": [
    "mystring[-3]"
   ]
  },
  {
   "cell_type": "code",
   "execution_count": 38,
   "id": "4c910c22",
   "metadata": {},
   "outputs": [
    {
     "data": {
      "text/plain": [
       "'d!'"
      ]
     },
     "execution_count": 38,
     "metadata": {},
     "output_type": "execute_result"
    }
   ],
   "source": [
    "mystring[-2:]"
   ]
  },
  {
   "cell_type": "code",
   "execution_count": 44,
   "id": "ed6ac819",
   "metadata": {},
   "outputs": [
    {
     "data": {
      "text/plain": [
       "2"
      ]
     },
     "execution_count": 44,
     "metadata": {},
     "output_type": "execute_result"
    }
   ],
   "source": [
    "mystring.index(\"l\")"
   ]
  },
  {
   "cell_type": "code",
   "execution_count": 48,
   "id": "76e8c13f",
   "metadata": {},
   "outputs": [
    {
     "data": {
      "text/plain": [
       "'Hellm Wmrld!'"
      ]
     },
     "execution_count": 48,
     "metadata": {},
     "output_type": "execute_result"
    }
   ],
   "source": [
    "mydict ={\"o\": \"m\"}\n",
    "mystring.replace(\"o\", \"m\")"
   ]
  },
  {
   "cell_type": "code",
   "execution_count": 49,
   "id": "5627b34f",
   "metadata": {},
   "outputs": [],
   "source": [
    "my_numbers = [1,2,3,4,5,6,7,8,9,10,11]\n",
    "\n",
    "even_numbers = [number for number in my_numbers if number%2 == 0]"
   ]
  },
  {
   "cell_type": "code",
   "execution_count": 50,
   "id": "23ebb32b",
   "metadata": {},
   "outputs": [
    {
     "data": {
      "text/plain": [
       "[2, 4, 6, 8, 10]"
      ]
     },
     "execution_count": 50,
     "metadata": {},
     "output_type": "execute_result"
    }
   ],
   "source": [
    "even_numbers"
   ]
  },
  {
   "cell_type": "code",
   "execution_count": 54,
   "id": "8c5a5175",
   "metadata": {},
   "outputs": [],
   "source": [
    "name = \"Sam\"\n",
    "name = \"P\" + name[1:]"
   ]
  },
  {
   "cell_type": "code",
   "execution_count": 60,
   "id": "190a5322",
   "metadata": {},
   "outputs": [
    {
     "data": {
      "text/plain": [
       "'John is Good'"
      ]
     },
     "execution_count": 60,
     "metadata": {},
     "output_type": "execute_result"
    }
   ],
   "source": [
    "my_list = [\"John\", \"is\", \"Good\"]\n",
    "' '.join(my_list)"
   ]
  },
  {
   "cell_type": "code",
   "execution_count": 62,
   "id": "4f67232c",
   "metadata": {},
   "outputs": [],
   "source": [
    "hello = list(mystring)"
   ]
  },
  {
   "cell_type": "code",
   "execution_count": 63,
   "id": "fa8d7228",
   "metadata": {},
   "outputs": [
    {
     "data": {
      "text/plain": [
       "['H', 'e', 'l', 'l', 'o', ' ', 'W', 'o', 'r', 'l', 'd', '!']"
      ]
     },
     "execution_count": 63,
     "metadata": {},
     "output_type": "execute_result"
    }
   ],
   "source": [
    "hello"
   ]
  },
  {
   "cell_type": "code",
   "execution_count": 64,
   "id": "bd6ab7fc",
   "metadata": {},
   "outputs": [
    {
     "data": {
      "text/plain": [
       "'Hello World!'"
      ]
     },
     "execution_count": 64,
     "metadata": {},
     "output_type": "execute_result"
    }
   ],
   "source": [
    "\"\".join(hello)"
   ]
  },
  {
   "cell_type": "code",
   "execution_count": 67,
   "id": "945a21d6",
   "metadata": {},
   "outputs": [
    {
     "data": {
      "text/plain": [
       "104.12"
      ]
     },
     "execution_count": 67,
     "metadata": {},
     "output_type": "execute_result"
    }
   ],
   "source": [
    "result = 104.12345\n",
    "round(result,2)"
   ]
  },
  {
   "cell_type": "code",
   "execution_count": 66,
   "id": "4fb12880",
   "metadata": {},
   "outputs": [
    {
     "name": "stdout",
     "output_type": "stream",
     "text": [
      "The result is 104.12\n"
     ]
    }
   ],
   "source": [
    "print(\"The result is {:.2f}\".format(result))"
   ]
  },
  {
   "cell_type": "code",
   "execution_count": 69,
   "id": "8a616abd",
   "metadata": {},
   "outputs": [
    {
     "name": "stdout",
     "output_type": "stream",
     "text": [
      "The result is 104.12\n"
     ]
    }
   ],
   "source": [
    "print(f\"The result is {round(result, 2)}\")"
   ]
  },
  {
   "cell_type": "code",
   "execution_count": 70,
   "id": "519a13f5",
   "metadata": {},
   "outputs": [
    {
     "data": {
      "text/plain": [
       "['!', 'd', 'l', 'r', 'o', 'W', ' ', 'o', 'l', 'l', 'e', 'H']"
      ]
     },
     "execution_count": 70,
     "metadata": {},
     "output_type": "execute_result"
    }
   ],
   "source": [
    "hello[::-1]"
   ]
  },
  {
   "cell_type": "code",
   "execution_count": 72,
   "id": "d8bed3dd",
   "metadata": {},
   "outputs": [
    {
     "data": {
      "text/plain": [
       "['John', 'is', 'Good', 'Ok']"
      ]
     },
     "execution_count": 72,
     "metadata": {},
     "output_type": "execute_result"
    }
   ],
   "source": [
    "my_list + [\"Ok\"]"
   ]
  },
  {
   "cell_type": "code",
   "execution_count": 73,
   "id": "40a12297",
   "metadata": {},
   "outputs": [
    {
     "data": {
      "text/plain": [
       "['John', 'is', 'Good']"
      ]
     },
     "execution_count": 73,
     "metadata": {},
     "output_type": "execute_result"
    }
   ],
   "source": [
    "my_list"
   ]
  },
  {
   "cell_type": "code",
   "execution_count": 74,
   "id": "31868aee",
   "metadata": {},
   "outputs": [],
   "source": [
    "my_list.reverse()"
   ]
  },
  {
   "cell_type": "code",
   "execution_count": 75,
   "id": "d8d1a6bd",
   "metadata": {},
   "outputs": [
    {
     "data": {
      "text/plain": [
       "['Good', 'is', 'John']"
      ]
     },
     "execution_count": 75,
     "metadata": {},
     "output_type": "execute_result"
    }
   ],
   "source": [
    "my_list"
   ]
  },
  {
   "cell_type": "code",
   "execution_count": 76,
   "id": "a3b8f3db",
   "metadata": {},
   "outputs": [],
   "source": [
    "my_list.extend([1,2,3,4,5])"
   ]
  },
  {
   "cell_type": "code",
   "execution_count": 77,
   "id": "1328704c",
   "metadata": {},
   "outputs": [
    {
     "data": {
      "text/plain": [
       "['Good', 'is', 'John', 1, 2, 3, 4, 5]"
      ]
     },
     "execution_count": 77,
     "metadata": {},
     "output_type": "execute_result"
    }
   ],
   "source": [
    "my_list"
   ]
  },
  {
   "cell_type": "code",
   "execution_count": 79,
   "id": "86cab492",
   "metadata": {},
   "outputs": [],
   "source": [
    "my_list.insert(3,'OK')"
   ]
  },
  {
   "cell_type": "code",
   "execution_count": 80,
   "id": "5dab2d2b",
   "metadata": {},
   "outputs": [
    {
     "data": {
      "text/plain": [
       "['Good', 'John', 'is', 'OK', 1, 2, 3, 4, 5]"
      ]
     },
     "execution_count": 80,
     "metadata": {},
     "output_type": "execute_result"
    }
   ],
   "source": [
    "my_list"
   ]
  },
  {
   "cell_type": "code",
   "execution_count": 81,
   "id": "5e951335",
   "metadata": {},
   "outputs": [],
   "source": [
    "my_dict = {\n",
    "    'a': 1,\n",
    "    'b': 2,\n",
    "    'c': 3\n",
    "}"
   ]
  },
  {
   "cell_type": "code",
   "execution_count": 90,
   "id": "4d6d2f8a",
   "metadata": {},
   "outputs": [
    {
     "data": {
      "text/plain": [
       "dict_keys(['a', 'b', 'c'])"
      ]
     },
     "execution_count": 90,
     "metadata": {},
     "output_type": "execute_result"
    }
   ],
   "source": [
    "my_dict.keys()"
   ]
  },
  {
   "cell_type": "code",
   "execution_count": 92,
   "id": "65a268ed",
   "metadata": {},
   "outputs": [
    {
     "data": {
      "text/plain": [
       "dict_values([1, 2, 3])"
      ]
     },
     "execution_count": 92,
     "metadata": {},
     "output_type": "execute_result"
    }
   ],
   "source": [
    "my_dict.values()"
   ]
  },
  {
   "cell_type": "code",
   "execution_count": 93,
   "id": "91ad1173",
   "metadata": {},
   "outputs": [
    {
     "data": {
      "text/plain": [
       "dict_items([('a', 1), ('b', 2), ('c', 3)])"
      ]
     },
     "execution_count": 93,
     "metadata": {},
     "output_type": "execute_result"
    }
   ],
   "source": [
    "my_dict.items()"
   ]
  },
  {
   "cell_type": "code",
   "execution_count": 95,
   "id": "8c778eff",
   "metadata": {},
   "outputs": [
    {
     "name": "stdout",
     "output_type": "stream",
     "text": [
      "('a', 1)\n",
      "('b', 2)\n",
      "('c', 3)\n"
     ]
    }
   ],
   "source": [
    "for items in my_dict.items():\n",
    "    print(items)"
   ]
  },
  {
   "cell_type": "code",
   "execution_count": 99,
   "id": "37a91c1b",
   "metadata": {},
   "outputs": [
    {
     "name": "stdout",
     "output_type": "stream",
     "text": [
      "1\n",
      "2\n",
      "3\n"
     ]
    }
   ],
   "source": [
    "for x in my_dict:\n",
    "    print(my_dict[x])"
   ]
  },
  {
   "cell_type": "code",
   "execution_count": 106,
   "id": "322c6d8a",
   "metadata": {},
   "outputs": [],
   "source": [
    "my_tuple =(1,3,4)"
   ]
  },
  {
   "cell_type": "code",
   "execution_count": 110,
   "id": "8171b561",
   "metadata": {},
   "outputs": [
    {
     "data": {
      "text/plain": [
       "1"
      ]
     },
     "execution_count": 110,
     "metadata": {},
     "output_type": "execute_result"
    }
   ],
   "source": [
    "my_tuple.count(4)"
   ]
  },
  {
   "cell_type": "code",
   "execution_count": 113,
   "id": "0dfbb094",
   "metadata": {},
   "outputs": [
    {
     "ename": "TypeError",
     "evalue": "'tuple' object does not support item assignment",
     "output_type": "error",
     "traceback": [
      "\u001b[1;31m---------------------------------------------------------------------------\u001b[0m",
      "\u001b[1;31mTypeError\u001b[0m                                 Traceback (most recent call last)",
      "Input \u001b[1;32mIn [113]\u001b[0m, in \u001b[0;36m<cell line: 1>\u001b[1;34m()\u001b[0m\n\u001b[1;32m----> 1\u001b[0m my_tuple[\u001b[38;5;241m0\u001b[39m] \u001b[38;5;241m=\u001b[39m \u001b[38;5;241m5\u001b[39m\n",
      "\u001b[1;31mTypeError\u001b[0m: 'tuple' object does not support item assignment"
     ]
    }
   ],
   "source": [
    "my_tuple[0] = 5"
   ]
  },
  {
   "cell_type": "code",
   "execution_count": 115,
   "id": "60af801e",
   "metadata": {},
   "outputs": [
    {
     "data": {
      "text/plain": [
       "5"
      ]
     },
     "execution_count": 115,
     "metadata": {},
     "output_type": "execute_result"
    }
   ],
   "source": [
    "new_lst = [1,2,3,4,5]\n",
    "max(new_lst)"
   ]
  },
  {
   "cell_type": "code",
   "execution_count": 3,
   "id": "bbbffbef",
   "metadata": {},
   "outputs": [],
   "source": [
    "def solution(N):\n",
    "    # write your code in Python 3.6\n",
    "    binary_number = bin(N)[2:]\n",
    "    print(binary_number)\n",
    "    gap = 0\n",
    "    first_1 = binary_number.index(\"1\")\n",
    "    for i in range(first_1, len(binary_number)):\n",
    "        if char == 1:\n",
    "            \n",
    "    return gap"
   ]
  },
  {
   "cell_type": "code",
   "execution_count": 4,
   "id": "ee6825c8",
   "metadata": {},
   "outputs": [
    {
     "name": "stdout",
     "output_type": "stream",
     "text": [
      "10000010001\n",
      "0\n"
     ]
    },
    {
     "ename": "ValueError",
     "evalue": "substring not found",
     "output_type": "error",
     "traceback": [
      "\u001b[1;31m---------------------------------------------------------------------------\u001b[0m",
      "\u001b[1;31mValueError\u001b[0m                                Traceback (most recent call last)",
      "Input \u001b[1;32mIn [4]\u001b[0m, in \u001b[0;36m<cell line: 1>\u001b[1;34m()\u001b[0m\n\u001b[1;32m----> 1\u001b[0m \u001b[43msolution\u001b[49m\u001b[43m(\u001b[49m\u001b[38;5;241;43m1041\u001b[39;49m\u001b[43m)\u001b[49m\n",
      "Input \u001b[1;32mIn [3]\u001b[0m, in \u001b[0;36msolution\u001b[1;34m(N)\u001b[0m\n\u001b[0;32m      5\u001b[0m gap \u001b[38;5;241m=\u001b[39m \u001b[38;5;241m0\u001b[39m\n\u001b[0;32m      6\u001b[0m \u001b[38;5;28;01mfor\u001b[39;00m i \u001b[38;5;129;01min\u001b[39;00m \u001b[38;5;28mrange\u001b[39m(binary_number\u001b[38;5;241m.\u001b[39mcount( \u001b[38;5;124m'\u001b[39m\u001b[38;5;124m1\u001b[39m\u001b[38;5;124m'\u001b[39m)):\n\u001b[1;32m----> 7\u001b[0m     next_occur_of_1 \u001b[38;5;241m=\u001b[39m \u001b[43mbinary_number\u001b[49m\u001b[38;5;241;43m.\u001b[39;49m\u001b[43mindex\u001b[49m\u001b[43m(\u001b[49m\u001b[38;5;124;43m'\u001b[39;49m\u001b[38;5;124;43m1\u001b[39;49m\u001b[38;5;124;43m'\u001b[39;49m\u001b[43m,\u001b[49m\u001b[43mi\u001b[49m\u001b[43m,\u001b[49m\u001b[43m \u001b[49m\u001b[43mi\u001b[49m\u001b[38;5;241;43m+\u001b[39;49m\u001b[38;5;241;43m1\u001b[39;49m\u001b[43m)\u001b[49m\n\u001b[0;32m      8\u001b[0m     \u001b[38;5;28mprint\u001b[39m(next_occur_of_1)\n\u001b[0;32m      9\u001b[0m     \u001b[38;5;28;01mif\u001b[39;00m next_occur_of_1 \u001b[38;5;241m-\u001b[39m i \u001b[38;5;241m>\u001b[39m \u001b[38;5;241m1\u001b[39m:\n",
      "\u001b[1;31mValueError\u001b[0m: substring not found"
     ]
    }
   ],
   "source": [
    "solution(1041)"
   ]
  },
  {
   "cell_type": "code",
   "execution_count": 7,
   "id": "133af7a3",
   "metadata": {},
   "outputs": [],
   "source": [
    "import queue"
   ]
  },
  {
   "cell_type": "code",
   "execution_count": 8,
   "id": "5083e19c",
   "metadata": {},
   "outputs": [],
   "source": [
    "new_q = queue.Queue()"
   ]
  },
  {
   "cell_type": "code",
   "execution_count": 9,
   "id": "5ac984cf",
   "metadata": {},
   "outputs": [],
   "source": [
    "new_q.put('X')"
   ]
  },
  {
   "cell_type": "code",
   "execution_count": 10,
   "id": "80f87d21",
   "metadata": {},
   "outputs": [
    {
     "data": {
      "text/plain": [
       "<queue.Queue at 0x174a95862e0>"
      ]
     },
     "execution_count": 10,
     "metadata": {},
     "output_type": "execute_result"
    }
   ],
   "source": [
    "new_q"
   ]
  },
  {
   "cell_type": "code",
   "execution_count": 12,
   "id": "4efe6ada",
   "metadata": {},
   "outputs": [
    {
     "data": {
      "text/plain": [
       "1"
      ]
     },
     "execution_count": 12,
     "metadata": {},
     "output_type": "execute_result"
    }
   ],
   "source": [
    "new_q.qsize()"
   ]
  },
  {
   "cell_type": "code",
   "execution_count": 16,
   "id": "ee6cbca6",
   "metadata": {},
   "outputs": [
    {
     "name": "stdout",
     "output_type": "stream",
     "text": [
      "X\n"
     ]
    }
   ],
   "source": [
    "for item in list(new_q.queue):\n",
    "    print(item)"
   ]
  },
  {
   "cell_type": "code",
   "execution_count": 20,
   "id": "10a6a819",
   "metadata": {},
   "outputs": [],
   "source": [
    "def recurringchar(a):\n",
    "    no_recurring = 0\n",
    "    for char in a:\n",
    "        if a.count(char) > 1:\n",
    "            no_recurring  = 1\n",
    "            return char\n",
    "    return \"None\"\n",
    "        \n",
    "            "
   ]
  },
  {
   "cell_type": "code",
   "execution_count": 21,
   "id": "26ed4510",
   "metadata": {},
   "outputs": [
    {
     "data": {
      "text/plain": [
       "'i'"
      ]
     },
     "execution_count": 21,
     "metadata": {},
     "output_type": "execute_result"
    }
   ],
   "source": [
    "recurringchar(\"interview\")"
   ]
  },
  {
   "cell_type": "code",
   "execution_count": 22,
   "id": "2a2aea41",
   "metadata": {},
   "outputs": [],
   "source": [
    "roots = [\"cat\", \"bat\", \"rat\"]\n",
    "sentence = \"the cattle was rattled by the battery\""
   ]
  },
  {
   "cell_type": "code",
   "execution_count": 34,
   "id": "e57539d0",
   "metadata": {},
   "outputs": [],
   "source": [
    "listofword = sentence.split(\" \")"
   ]
  },
  {
   "cell_type": "code",
   "execution_count": 44,
   "id": "a8403424",
   "metadata": {},
   "outputs": [
    {
     "data": {
      "text/plain": [
       "'the cat was rat by the bat'"
      ]
     },
     "execution_count": 44,
     "metadata": {},
     "output_type": "execute_result"
    }
   ],
   "source": [
    "upd_s = []\n",
    "listofword = sentence.split(\" \")\n",
    "for item in roots:\n",
    "    for i in range(len(listofword)):\n",
    "        if listofword[i].startswith(item):\n",
    "               listofword[i] = item    \n",
    "\" \".join(listofword)"
   ]
  },
  {
   "cell_type": "code",
   "execution_count": 39,
   "id": "07c5c1d3",
   "metadata": {},
   "outputs": [
    {
     "data": {
      "text/plain": [
       "'the cat was rattled by the battery'"
      ]
     },
     "execution_count": 39,
     "metadata": {},
     "output_type": "execute_result"
    }
   ],
   "source": [
    "sentence.replace(\"cattle\", \"cat\")"
   ]
  },
  {
   "cell_type": "code",
   "execution_count": null,
   "id": "a45c9d1e",
   "metadata": {},
   "outputs": [],
   "source": [
    "def findcomb(lst, target):\n",
    "    final_list = []\n",
    "    diff = 0\n",
    "    for number in lst:\n",
    "        while diff > 0:\n",
    "            diff = target - number\n",
    "            if diff > a\n",
    "            \n",
    "            "
   ]
  },
  {
   "cell_type": "code",
   "execution_count": null,
   "id": "622c077e",
   "metadata": {},
   "outputs": [],
   "source": []
  }
 ],
 "metadata": {
  "kernelspec": {
   "display_name": "Python 3 (ipykernel)",
   "language": "python",
   "name": "python3"
  },
  "language_info": {
   "codemirror_mode": {
    "name": "ipython",
    "version": 3
   },
   "file_extension": ".py",
   "mimetype": "text/x-python",
   "name": "python",
   "nbconvert_exporter": "python",
   "pygments_lexer": "ipython3",
   "version": "3.9.12"
  }
 },
 "nbformat": 4,
 "nbformat_minor": 5
}
