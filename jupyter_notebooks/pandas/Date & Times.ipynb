{
 "cells": [
  {
   "cell_type": "code",
   "execution_count": 2,
   "id": "d2929918",
   "metadata": {},
   "outputs": [],
   "source": [
    "import pandas as pd"
   ]
  },
  {
   "cell_type": "code",
   "execution_count": 2,
   "id": "a3dba833",
   "metadata": {},
   "outputs": [],
   "source": [
    "import datetime as dt"
   ]
  },
  {
   "cell_type": "code",
   "execution_count": 5,
   "id": "c110f6cd",
   "metadata": {},
   "outputs": [],
   "source": [
    "to_day = dt.datetime(2022, 2, 28, 14, 45, 30)"
   ]
  },
  {
   "cell_type": "code",
   "execution_count": 11,
   "id": "6514336a",
   "metadata": {},
   "outputs": [
    {
     "data": {
      "text/plain": [
       "'2022-02-28'"
      ]
     },
     "execution_count": 11,
     "metadata": {},
     "output_type": "execute_result"
    }
   ],
   "source": [
    "to_day.strftime('%Y-%m-%d')"
   ]
  },
  {
   "cell_type": "code",
   "execution_count": 12,
   "id": "4c44f22e",
   "metadata": {},
   "outputs": [
    {
     "data": {
      "text/plain": [
       "2022"
      ]
     },
     "execution_count": 12,
     "metadata": {},
     "output_type": "execute_result"
    }
   ],
   "source": [
    "to_day.year"
   ]
  },
  {
   "cell_type": "code",
   "execution_count": 14,
   "id": "b4e7a3c3",
   "metadata": {},
   "outputs": [
    {
     "data": {
      "text/plain": [
       "45"
      ]
     },
     "execution_count": 14,
     "metadata": {},
     "output_type": "execute_result"
    }
   ],
   "source": [
    "to_day.minute"
   ]
  },
  {
   "cell_type": "code",
   "execution_count": 15,
   "id": "98b4a110",
   "metadata": {},
   "outputs": [
    {
     "data": {
      "text/plain": [
       "2"
      ]
     },
     "execution_count": 15,
     "metadata": {},
     "output_type": "execute_result"
    }
   ],
   "source": [
    "to_day.month"
   ]
  },
  {
   "cell_type": "code",
   "execution_count": 17,
   "id": "f707d625",
   "metadata": {},
   "outputs": [],
   "source": [
    "tstdate = pd.Timestamp(\"2022-07-19\")"
   ]
  },
  {
   "cell_type": "code",
   "execution_count": 18,
   "id": "6c10ca1f",
   "metadata": {},
   "outputs": [
    {
     "data": {
      "text/plain": [
       "2022"
      ]
     },
     "execution_count": 18,
     "metadata": {},
     "output_type": "execute_result"
    }
   ],
   "source": [
    "tstdate.year"
   ]
  },
  {
   "cell_type": "code",
   "execution_count": 3,
   "id": "2d147bb7",
   "metadata": {},
   "outputs": [
    {
     "data": {
      "text/plain": [
       "Timestamp('2022-05-07 00:00:00')"
      ]
     },
     "execution_count": 3,
     "metadata": {},
     "output_type": "execute_result"
    }
   ],
   "source": [
    "pd.to_datetime(\"2022-05-07\")"
   ]
  },
  {
   "cell_type": "code",
   "execution_count": 22,
   "id": "6c29fc71",
   "metadata": {},
   "outputs": [
    {
     "data": {
      "text/plain": [
       "DatetimeIndex(['2022-09-01', '2023-09-01', '2024-09-01', '2025-09-01',\n",
       "               '2026-09-01', '2027-09-01', '2028-09-01', '2029-09-01',\n",
       "               '2030-09-01', '2031-09-01', '2032-09-01', '2033-09-01',\n",
       "               '2034-09-01', '2035-09-01', '2036-09-01', '2037-09-01',\n",
       "               '2038-09-01', '2039-09-01', '2040-09-01', '2041-09-01',\n",
       "               '2042-09-01', '2043-09-01', '2044-09-01', '2045-09-01',\n",
       "               '2046-09-01', '2047-09-01', '2048-09-01', '2049-09-01',\n",
       "               '2050-09-01'],\n",
       "              dtype='datetime64[ns]', freq='AS-SEP')"
      ]
     },
     "execution_count": 22,
     "metadata": {},
     "output_type": "execute_result"
    }
   ],
   "source": [
    "pd.date_range(start='01-01-2022', end='20-09-2050', freq='AS-SEP')"
   ]
  },
  {
   "cell_type": "code",
   "execution_count": null,
   "id": "445832cd",
   "metadata": {},
   "outputs": [],
   "source": []
  }
 ],
 "metadata": {
  "kernelspec": {
   "display_name": "Python 3 (ipykernel)",
   "language": "python",
   "name": "python3"
  },
  "language_info": {
   "codemirror_mode": {
    "name": "ipython",
    "version": 3
   },
   "file_extension": ".py",
   "mimetype": "text/x-python",
   "name": "python",
   "nbconvert_exporter": "python",
   "pygments_lexer": "ipython3",
   "version": "3.10.4"
  }
 },
 "nbformat": 4,
 "nbformat_minor": 5
}
