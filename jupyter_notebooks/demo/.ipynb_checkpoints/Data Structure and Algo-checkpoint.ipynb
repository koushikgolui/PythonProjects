{
 "cells": [
  {
   "cell_type": "code",
   "execution_count": 1,
   "id": "2265a3b8",
   "metadata": {},
   "outputs": [],
   "source": [
    "array = [10, 12, 12, 13]"
   ]
  },
  {
   "cell_type": "code",
   "execution_count": 2,
   "id": "0d0b5b70",
   "metadata": {},
   "outputs": [
    {
     "name": "stdout",
     "output_type": "stream",
     "text": [
      "[10, 12, 12, 13]\n"
     ]
    }
   ],
   "source": [
    "print(array)"
   ]
  },
  {
   "cell_type": "code",
   "execution_count": 3,
   "id": "f642fa4f",
   "metadata": {},
   "outputs": [
    {
     "data": {
      "text/plain": [
       "10"
      ]
     },
     "execution_count": 3,
     "metadata": {},
     "output_type": "execute_result"
    }
   ],
   "source": [
    "array[0]"
   ]
  },
  {
   "cell_type": "code",
   "execution_count": 4,
   "id": "227dd24e",
   "metadata": {},
   "outputs": [
    {
     "data": {
      "text/plain": [
       "[10, 12, 12]"
      ]
     },
     "execution_count": 4,
     "metadata": {},
     "output_type": "execute_result"
    }
   ],
   "source": [
    "array[:-1]"
   ]
  },
  {
   "cell_type": "code",
   "execution_count": 5,
   "id": "8481425a",
   "metadata": {},
   "outputs": [],
   "source": [
    "array[2] = 14"
   ]
  },
  {
   "cell_type": "code",
   "execution_count": 6,
   "id": "b2354722",
   "metadata": {},
   "outputs": [
    {
     "data": {
      "text/plain": [
       "[10, 12, 14, 13]"
      ]
     },
     "execution_count": 6,
     "metadata": {},
     "output_type": "execute_result"
    }
   ],
   "source": [
    "array"
   ]
  },
  {
   "cell_type": "code",
   "execution_count": 8,
   "id": "774a9e02",
   "metadata": {},
   "outputs": [
    {
     "name": "stdout",
     "output_type": "stream",
     "text": [
      "14\n"
     ]
    }
   ],
   "source": [
    "max = array[0]\n",
    "for item in array:\n",
    "    if item > max:\n",
    "        max = item\n",
    "print(max)"
   ]
  },
  {
   "cell_type": "markdown",
   "id": "7cc2bfa7",
   "metadata": {},
   "source": [
    "### Reversing an array"
   ]
  },
  {
   "cell_type": "code",
   "execution_count": 16,
   "id": "fda29c93",
   "metadata": {},
   "outputs": [],
   "source": [
    "def reversearray(array):\n",
    "    last_index = len(array) -1\n",
    "    first_index = 0\n",
    "    while first_index < last_index:\n",
    "        array[first_index], array[last_index] = array[last_index], array[first_index]\n",
    "        first_index += 1\n",
    "        last_index -= 1\n",
    "    return(array)\n"
   ]
  },
  {
   "cell_type": "code",
   "execution_count": 17,
   "id": "f9d5e6d3",
   "metadata": {},
   "outputs": [
    {
     "data": {
      "text/plain": [
       "[6, 5, 4, 3, 2, 1]"
      ]
     },
     "execution_count": 17,
     "metadata": {},
     "output_type": "execute_result"
    }
   ],
   "source": [
    "array =[1,2,3,4,5,6]\n",
    "reversearray(array)"
   ]
  },
  {
   "cell_type": "code",
   "execution_count": 18,
   "id": "40a6fae2",
   "metadata": {},
   "outputs": [],
   "source": [
    "array.reverse()"
   ]
  },
  {
   "cell_type": "code",
   "execution_count": 19,
   "id": "582578a7",
   "metadata": {},
   "outputs": [
    {
     "data": {
      "text/plain": [
       "[1, 2, 3, 4, 5, 6]"
      ]
     },
     "execution_count": 19,
     "metadata": {},
     "output_type": "execute_result"
    }
   ],
   "source": [
    "array"
   ]
  },
  {
   "cell_type": "markdown",
   "id": "3bb9b9fa",
   "metadata": {},
   "source": [
    "### Palindrome"
   ]
  },
  {
   "cell_type": "code",
   "execution_count": 21,
   "id": "b3a14d65",
   "metadata": {},
   "outputs": [],
   "source": [
    "def palindrome(string):\n",
    "    lowindex = 0\n",
    "    highindex =len(string) -1\n",
    "    palindrome = False\n",
    "    while highindex > lowindex:\n",
    "        \n",
    "        if string[lowindex] != string[highindex]:\n",
    "            return (f\"{string} is not a Palindrome\")\n",
    "        lowindex += 1\n",
    "        highindex -= 1\n",
    "    return(f\"{string} is a palindrome\")\n"
   ]
  },
  {
   "cell_type": "code",
   "execution_count": 22,
   "id": "3526c7ea",
   "metadata": {},
   "outputs": [
    {
     "data": {
      "text/plain": [
       "'koushik is not a Palindrome'"
      ]
     },
     "execution_count": 22,
     "metadata": {},
     "output_type": "execute_result"
    }
   ],
   "source": [
    "string = \"koushik\"\n",
    "palindrome(string)"
   ]
  },
  {
   "cell_type": "code",
   "execution_count": 26,
   "id": "6333c889",
   "metadata": {},
   "outputs": [
    {
     "data": {
      "text/plain": [
       "'racecar is a palindrome'"
      ]
     },
     "execution_count": 26,
     "metadata": {},
     "output_type": "execute_result"
    }
   ],
   "source": [
    "string = \"racecar\"\n",
    "palindrome(string)"
   ]
  },
  {
   "cell_type": "code",
   "execution_count": 27,
   "id": "a4187931",
   "metadata": {},
   "outputs": [],
   "source": [
    "def ispalidrome(string):\n",
    "    if string == string[::-1]:\n",
    "        return( \"Plaindrome\")\n",
    "    else:\n",
    "        return(\"not Palindrome\")\n",
    "\n",
    "    "
   ]
  },
  {
   "cell_type": "code",
   "execution_count": 28,
   "id": "183a1116",
   "metadata": {},
   "outputs": [
    {
     "data": {
      "text/plain": [
       "'Plaindrome'"
      ]
     },
     "execution_count": 28,
     "metadata": {},
     "output_type": "execute_result"
    }
   ],
   "source": [
    "ispalidrome(\"madam\")"
   ]
  },
  {
   "cell_type": "markdown",
   "id": "b0238c62",
   "metadata": {},
   "source": [
    "### Integer reversion"
   ]
  },
  {
   "cell_type": "code",
   "execution_count": 29,
   "id": "f546803e",
   "metadata": {},
   "outputs": [],
   "source": [
    "def intreversion_python(integer):\n",
    "    return(int(str(integer)[::-1]))\n",
    "    "
   ]
  },
  {
   "cell_type": "code",
   "execution_count": 30,
   "id": "c20ee8b9",
   "metadata": {},
   "outputs": [
    {
     "data": {
      "text/plain": [
       "532"
      ]
     },
     "execution_count": 30,
     "metadata": {},
     "output_type": "execute_result"
    }
   ],
   "source": [
    "intreversion_python(235)"
   ]
  },
  {
   "cell_type": "code",
   "execution_count": 35,
   "id": "b95a6138",
   "metadata": {},
   "outputs": [],
   "source": [
    "def reverse_integer(integer):\n",
    "    reversed_int = 0\n",
    "    remainder = 0\n",
    "    \n",
    "    while integer > 0:\n",
    "        remainder = integer % 10\n",
    "        integer = integer // 10\n",
    "        reversed_int = reversed_int * 10 + remainder\n",
    "        \n",
    "    return reversed_int"
   ]
  },
  {
   "cell_type": "code",
   "execution_count": 36,
   "id": "4634e82f",
   "metadata": {},
   "outputs": [
    {
     "data": {
      "text/plain": [
       "76789"
      ]
     },
     "execution_count": 36,
     "metadata": {},
     "output_type": "execute_result"
    }
   ],
   "source": [
    "reverse_integer(98767)"
   ]
  },
  {
   "cell_type": "markdown",
   "id": "c4f2ed84",
   "metadata": {},
   "source": [
    "### Anagram"
   ]
  },
  {
   "cell_type": "code",
   "execution_count": 53,
   "id": "b256a801",
   "metadata": {},
   "outputs": [],
   "source": [
    "def isanagram(word1, word2):\n",
    "    set1 = set(word1)\n",
    "    set2 = set(word2)\n",
    "    if set1 == set2:\n",
    "        return(\"anagram\")\n",
    "    else:\n",
    "        return(\"not Anagram\")"
   ]
  },
  {
   "cell_type": "code",
   "execution_count": 54,
   "id": "498a6b3e",
   "metadata": {},
   "outputs": [
    {
     "ename": "TypeError",
     "evalue": "'set' object is not callable",
     "output_type": "error",
     "traceback": [
      "\u001b[1;31m---------------------------------------------------------------------------\u001b[0m",
      "\u001b[1;31mTypeError\u001b[0m                                 Traceback (most recent call last)",
      "Input \u001b[1;32mIn [54]\u001b[0m, in \u001b[0;36m<cell line: 1>\u001b[1;34m()\u001b[0m\n\u001b[1;32m----> 1\u001b[0m \u001b[43misanagram\u001b[49m\u001b[43m(\u001b[49m\u001b[38;5;124;43m'\u001b[39;49m\u001b[38;5;124;43mrestful\u001b[39;49m\u001b[38;5;124;43m'\u001b[39;49m\u001b[43m,\u001b[49m\u001b[43m \u001b[49m\u001b[38;5;124;43m'\u001b[39;49m\u001b[38;5;124;43mfluster\u001b[39;49m\u001b[38;5;124;43m'\u001b[39;49m\u001b[43m)\u001b[49m\n",
      "Input \u001b[1;32mIn [53]\u001b[0m, in \u001b[0;36misanagram\u001b[1;34m(word1, word2)\u001b[0m\n\u001b[0;32m      1\u001b[0m \u001b[38;5;28;01mdef\u001b[39;00m \u001b[38;5;21misanagram\u001b[39m(word1, word2):\n\u001b[1;32m----> 2\u001b[0m     set1 \u001b[38;5;241m=\u001b[39m \u001b[38;5;28;43mset\u001b[39;49m\u001b[43m(\u001b[49m\u001b[43mword1\u001b[49m\u001b[43m)\u001b[49m\n\u001b[0;32m      3\u001b[0m     set2 \u001b[38;5;241m=\u001b[39m \u001b[38;5;28mset\u001b[39m(word2)\n\u001b[0;32m      4\u001b[0m     \u001b[38;5;28;01mif\u001b[39;00m set1 \u001b[38;5;241m==\u001b[39m set2:\n",
      "\u001b[1;31mTypeError\u001b[0m: 'set' object is not callable"
     ]
    }
   ],
   "source": [
    "isanagram('restful', 'fluster')"
   ]
  },
  {
   "cell_type": "code",
   "execution_count": 46,
   "id": "9475eba3",
   "metadata": {},
   "outputs": [
    {
     "name": "stdout",
     "output_type": "stream",
     "text": [
      "Ok\n"
     ]
    }
   ],
   "source": [
    "if set == {3,2,1}:\n",
    "    print(\"Ok\")"
   ]
  },
  {
   "cell_type": "code",
   "execution_count": 62,
   "id": "ed17ed33",
   "metadata": {},
   "outputs": [
    {
     "ename": "TypeError",
     "evalue": "unhashable type: 'list'",
     "output_type": "error",
     "traceback": [
      "\u001b[1;31m---------------------------------------------------------------------------\u001b[0m",
      "\u001b[1;31mTypeError\u001b[0m                                 Traceback (most recent call last)",
      "Input \u001b[1;32mIn [62]\u001b[0m, in \u001b[0;36m<cell line: 3>\u001b[1;34m()\u001b[0m\n\u001b[0;32m      1\u001b[0m s \u001b[38;5;241m=\u001b[39m \u001b[38;5;124m\"\u001b[39m\u001b[38;5;124mI am good\u001b[39m\u001b[38;5;124m\"\u001b[39m\n\u001b[0;32m      2\u001b[0m l \u001b[38;5;241m=\u001b[39m \u001b[38;5;28mlist\u001b[39m(s)\n\u001b[1;32m----> 3\u001b[0m f \u001b[38;5;241m=\u001b[39m {l}\n",
      "\u001b[1;31mTypeError\u001b[0m: unhashable type: 'list'"
     ]
    }
   ],
   "source": [
    "s = \"I am good\"\n",
    "l = list(s)\n",
    "f = {l}"
   ]
  },
  {
   "cell_type": "code",
   "execution_count": 63,
   "id": "a158d422",
   "metadata": {},
   "outputs": [],
   "source": [
    "lst = ['a','v']\n",
    "lst.extend('c')"
   ]
  },
  {
   "cell_type": "code",
   "execution_count": null,
   "id": "60bda37e",
   "metadata": {},
   "outputs": [],
   "source": []
  }
 ],
 "metadata": {
  "kernelspec": {
   "display_name": "Python 3 (ipykernel)",
   "language": "python",
   "name": "python3"
  },
  "language_info": {
   "codemirror_mode": {
    "name": "ipython",
    "version": 3
   },
   "file_extension": ".py",
   "mimetype": "text/x-python",
   "name": "python",
   "nbconvert_exporter": "python",
   "pygments_lexer": "ipython3",
   "version": "3.9.12"
  }
 },
 "nbformat": 4,
 "nbformat_minor": 5
}
