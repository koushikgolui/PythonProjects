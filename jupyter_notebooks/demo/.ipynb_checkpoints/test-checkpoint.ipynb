{
 "cells": [
  {
   "cell_type": "code",
   "execution_count": 1,
   "id": "df820207",
   "metadata": {},
   "outputs": [
    {
     "name": "stdout",
     "output_type": "stream",
     "text": [
      "['Hello', 'World']\n"
     ]
    }
   ],
   "source": [
    "print(\"Hello World\".split())"
   ]
  },
  {
   "cell_type": "code",
   "execution_count": 2,
   "id": "b045979d",
   "metadata": {},
   "outputs": [],
   "source": [
    "number1 = 1\n",
    "string1 = \"1\""
   ]
  },
  {
   "cell_type": "code",
   "execution_count": 4,
   "id": "cd8f658f",
   "metadata": {},
   "outputs": [
    {
     "name": "stdout",
     "output_type": "stream",
     "text": [
      "1 1\n"
     ]
    }
   ],
   "source": [
    "print(number1 , string1)"
   ]
  },
  {
   "cell_type": "code",
   "execution_count": 9,
   "id": "5b68b50a",
   "metadata": {},
   "outputs": [
    {
     "name": "stdout",
     "output_type": "stream",
     "text": [
      "this a number 1 and This is a string 1\n"
     ]
    }
   ],
   "source": [
    "print(\"this a number %d and This is a string %s\" %(number1 ,string1))"
   ]
  },
  {
   "cell_type": "code",
   "execution_count": 9,
   "id": "8f14ab3a",
   "metadata": {},
   "outputs": [
    {
     "name": "stdout",
     "output_type": "stream",
     "text": [
      "1\n",
      "1\n",
      "1\n",
      "2\n",
      "[[0, 0, 0], [0, 0, 1], [0, 1, 0], [1, 0, 0], [1, 1, 1]]\n"
     ]
    }
   ],
   "source": [
    "x = int(input())\n",
    "y = int(input())\n",
    "z = int(input())\n",
    "n = int(input())\n",
    "# output = [ [i,j,k] for k in range(z+1) for j in range(y+1) for i in range(x+1) if (i + j + k) != n]\n",
    "output = []\n",
    "for i in range(x+1):\n",
    "    for j in range(y+1):\n",
    "        for k in range(z+1):\n",
    "            if (k + j + i) != 2:\n",
    "                output.append([i,j,k])\n",
    "                \n",
    "\n",
    "print(output)"
   ]
  },
  {
   "cell_type": "code",
   "execution_count": 20,
   "id": "e4995f22",
   "metadata": {},
   "outputs": [
    {
     "name": "stdout",
     "output_type": "stream",
     "text": [
      "5\n",
      "2 3 6 6 5\n",
      "2\n",
      "3\n",
      "5\n",
      "6\n",
      "6\n"
     ]
    }
   ],
   "source": [
    "if __name__ == '__main__':\n",
    "    n = int(input())\n",
    "    arr = map(int, input().split())\n",
    "    arr_sort = sorted(arr)\n",
    "    for i in arr_sort:\n",
    "        print(i)"
   ]
  },
  {
   "cell_type": "code",
   "execution_count": 36,
   "id": "78db63df",
   "metadata": {},
   "outputs": [
    {
     "name": "stdout",
     "output_type": "stream",
     "text": [
      "after each j=0 - [1, 5, 3, 2, 6, 8, 10, 9, 12, 18, 7, 21]\n",
      "after each j=1 - [1, 3, 2, 5, 6, 8, 9, 10, 12, 7, 18, 21]\n",
      "after each j=2 - [1, 2, 3, 5, 6, 8, 9, 10, 7, 12, 18, 21]\n",
      "after each j=3 - [1, 2, 3, 5, 6, 8, 9, 7, 10, 12, 18, 21]\n",
      "after each j=4 - [1, 2, 3, 5, 6, 8, 7, 9, 10, 12, 18, 21]\n",
      "after each j=5 - [1, 2, 3, 5, 6, 7, 8, 9, 10, 12, 18, 21]\n"
     ]
    }
   ],
   "source": [
    "lst = [1,5,6,3,2,21, 8 , 10 ,9, 12, 18, 7]\n",
    "\n",
    "\n",
    "for j in range(len(lst)):\n",
    "    swapped = False\n",
    "    for i in range(len(lst)-j-1):\n",
    "        if lst[i] > lst[i+1]:\n",
    "            lst[i], lst[i+1] = lst[i+1], lst[i]\n",
    "            swapped = True\n",
    "    if not swapped:\n",
    "        break\n",
    "    print(f\"after each j={j} - {lst}\")\n",
    "            \n",
    "#print(lst)\n",
    "    "
   ]
  },
  {
   "cell_type": "code",
   "execution_count": 50,
   "id": "e2caafa2",
   "metadata": {},
   "outputs": [
    {
     "name": "stdout",
     "output_type": "stream",
     "text": [
      "key = 1\n",
      "[1, 1, 6, 3, 2, 21, 8, 10, 9, 12, 18, 7]\n",
      "key = 6\n",
      "key = 3\n",
      "key = 2\n",
      "key = 21\n",
      "key = 8\n",
      "key = 10\n",
      "key = 9\n",
      "key = 12\n",
      "key = 18\n",
      "key = 7\n"
     ]
    }
   ],
   "source": [
    "lst = [5,1,6,3,2,21, 8 , 10 ,9, 12, 18, 7]\n",
    "\n",
    "for j in range(1,len(lst)):\n",
    "    key = lst[j]\n",
    "    print(f\"key = {key}\")\n",
    "    \n",
    "    for i in range(j):\n",
    "        if lst[i] > key:\n",
    "            lst[j] = lst[j-i]\n",
    "            lst[i] = key\n",
    "        else:\n",
    "            break\n",
    "        print(lst)\n",
    "            "
   ]
  },
  {
   "cell_type": "code",
   "execution_count": 5,
   "id": "1e051341",
   "metadata": {},
   "outputs": [],
   "source": [
    "lst = [[1,2,4,5],[3,4,5,5],[6,7,8,9], [2,3,4,5]]"
   ]
  },
  {
   "cell_type": "code",
   "execution_count": 2,
   "id": "fec28098",
   "metadata": {},
   "outputs": [
    {
     "data": {
      "text/plain": [
       "3"
      ]
     },
     "execution_count": 2,
     "metadata": {},
     "output_type": "execute_result"
    }
   ],
   "source": [
    "len(lst)"
   ]
  },
  {
   "cell_type": "code",
   "execution_count": 5,
   "id": "8f815898",
   "metadata": {},
   "outputs": [
    {
     "name": "stdout",
     "output_type": "stream",
     "text": [
      "1\n",
      "4\n",
      "8\n"
     ]
    }
   ],
   "source": [
    "for i in range(len(lst)):\n",
    "    for j in range(len(lst)):\n",
    "        if i ==j:\n",
    "            print(lst[i][j])"
   ]
  },
  {
   "cell_type": "code",
   "execution_count": 3,
   "id": "f2e0244a",
   "metadata": {},
   "outputs": [
    {
     "data": {
      "text/plain": [
       "4"
      ]
     },
     "execution_count": 3,
     "metadata": {},
     "output_type": "execute_result"
    }
   ],
   "source": [
    "lst[0][-1]\n",
    "        "
   ]
  },
  {
   "cell_type": "code",
   "execution_count": 6,
   "id": "705e19a1",
   "metadata": {},
   "outputs": [
    {
     "data": {
      "text/plain": [
       "4"
      ]
     },
     "execution_count": 6,
     "metadata": {},
     "output_type": "execute_result"
    }
   ],
   "source": [
    "lst[1][-2]"
   ]
  },
  {
   "cell_type": "code",
   "execution_count": 7,
   "id": "9c38aa64",
   "metadata": {},
   "outputs": [
    {
     "data": {
      "text/plain": [
       "6"
      ]
     },
     "execution_count": 7,
     "metadata": {},
     "output_type": "execute_result"
    }
   ],
   "source": [
    "lst[2][-3]"
   ]
  },
  {
   "cell_type": "code",
   "execution_count": 10,
   "id": "512c53d7",
   "metadata": {},
   "outputs": [
    {
     "ename": "SyntaxError",
     "evalue": "invalid syntax (3993528598.py, line 2)",
     "output_type": "error",
     "traceback": [
      "\u001b[1;36m  Input \u001b[1;32mIn [10]\u001b[1;36m\u001b[0m\n\u001b[1;33m    for j in reverse range(0, len(lst)):\u001b[0m\n\u001b[1;37m                     ^\u001b[0m\n\u001b[1;31mSyntaxError\u001b[0m\u001b[1;31m:\u001b[0m invalid syntax\n"
     ]
    }
   ],
   "source": [
    "for i in range (len(lst)):\n",
    "    for j in range(0, len(lst)):\n",
    "        print (i, -j)"
   ]
  },
  {
   "cell_type": "code",
   "execution_count": 7,
   "id": "568738ae",
   "metadata": {},
   "outputs": [
    {
     "name": "stdout",
     "output_type": "stream",
     "text": [
      "[0, 0]\n",
      "[1, 1]\n",
      "[2, 2]\n",
      "[3, 3]\n"
     ]
    }
   ],
   "source": [
    "i =0\n",
    "j =0\n",
    "while i < len(lst):\n",
    "    while j < len(lst):\n",
    "        print([i,j])\n",
    "        i += 1\n",
    "        j += 1"
   ]
  },
  {
   "cell_type": "code",
   "execution_count": 1,
   "id": "ac72d553",
   "metadata": {},
   "outputs": [
    {
     "name": "stdout",
     "output_type": "stream",
     "text": [
      "5\n",
      "4\n",
      "3\n",
      "2\n",
      "1\n",
      "0\n"
     ]
    }
   ],
   "source": [
    "i = 5\n",
    "while i > -1:\n",
    "    print(i)\n",
    "    i -= 1"
   ]
  },
  {
   "cell_type": "code",
   "execution_count": 3,
   "id": "bff048d7",
   "metadata": {},
   "outputs": [
    {
     "name": "stdout",
     "output_type": "stream",
     "text": [
      "0\n",
      "1\n",
      "2\n",
      "3\n",
      "4\n"
     ]
    }
   ],
   "source": [
    "i = 0\n",
    "while i < 5:\n",
    "    print(i)\n",
    "    i += 1"
   ]
  },
  {
   "cell_type": "code",
   "execution_count": 3,
   "id": "db29a882",
   "metadata": {},
   "outputs": [
    {
     "name": "stdout",
     "output_type": "stream",
     "text": [
      "[0, 2]\n",
      "[1, 1]\n",
      "[2, 0]\n"
     ]
    }
   ],
   "source": [
    "i = 0\n",
    "while i < len(lst):\n",
    "    j = len(lst) -1\n",
    "    while j > -1:\n",
    "        \n",
    "        if i + j == len(lst) -1 :\n",
    "            print ([i,j])\n",
    "        j -= 1\n",
    "    i += 1"
   ]
  },
  {
   "cell_type": "code",
   "execution_count": 6,
   "id": "ea97a3f0",
   "metadata": {},
   "outputs": [
    {
     "name": "stdout",
     "output_type": "stream",
     "text": [
      "[0, 3]\n",
      "[1, 2]\n",
      "[2, 1]\n",
      "[3, 0]\n"
     ]
    }
   ],
   "source": [
    "i = 0\n",
    "while i < len(lst):\n",
    "    j = len(lst) -1\n",
    "    while j > -1:\n",
    "        print ([i,j])\n",
    "        j -= 1\n",
    "        i += 1"
   ]
  },
  {
   "cell_type": "code",
   "execution_count": 13,
   "id": "fb2bcad7",
   "metadata": {},
   "outputs": [
    {
     "name": "stdout",
     "output_type": "stream",
     "text": [
      "Counter({'25': 3, '89': 3, '32': 3, '69': 3, '33': 3, '73': 2, '1': 2, '98': 2, '56': 2, '86': 2, '16': 2, '83': 2, '81': 2, '9': 2, '67': 2, '99': 2, '39': 2, '90': 2, '44': 2, '3': 2, '30': 2, '27': 2, '79': 2, '46': 2, '21': 2, '40': 2, '78': 2, '87': 2, '70': 2, '75': 2, '63': 1, '84': 1, '57': 1, '8': 1, '53': 1, '12': 1, '80': 1, '91': 1, '76': 1, '85': 1, '74': 1, '59': 1, '10': 1, '94': 1, '96': 1, '18': 1, '92': 1, '34': 1, '68': 1, '24': 1, '42': 1, '23': 1, '41': 1, '22': 1, '6': 1, '50': 1, '20': 1, '43': 1, '95': 1, '48': 1, '60': 1, '65': 1, '82': 1, '61': 1, '13': 1})\n"
     ]
    }
   ],
   "source": [
    "from collections import Counter\n",
    "string = '63 25 73 1 98 73 56 84 86 57 16 83 8 25 81 56 9 53 98 67 99 12 83 89 80 91 39 86 76 85 74 39 25 90 59 10 94 32 44 3 89 30 27 79 46 96 27 32 18 21 92 69 81 40 40 34 68 78 24 87 42 69 23 41 78 22 6 90 99 89 50 30 20 1 43 3 70 95 33 46 44 9 69 48 33 60 65 16 82 67 61 32 21 79 75 75 13 87 70 33'\n",
    "number_lst = string.split(\" \")\n",
    "c = Counter(number_lst)\n",
    "print(c)\n",
    "\n",
    "for i in range (100):\n",
    "    \n",
    "    "
   ]
  },
  {
   "cell_type": "code",
   "execution_count": 14,
   "id": "3f4caf1d",
   "metadata": {},
   "outputs": [],
   "source": [
    "result = [0] * 10"
   ]
  },
  {
   "cell_type": "code",
   "execution_count": 15,
   "id": "2fdad288",
   "metadata": {},
   "outputs": [
    {
     "data": {
      "text/plain": [
       "[0, 0, 0, 0, 0, 0, 0, 0, 0, 0]"
      ]
     },
     "execution_count": 15,
     "metadata": {},
     "output_type": "execute_result"
    }
   ],
   "source": [
    "result"
   ]
  },
  {
   "cell_type": "code",
   "execution_count": 32,
   "id": "fe1cb6c5",
   "metadata": {},
   "outputs": [],
   "source": [
    "def countingSort(arr):\n",
    "    # Write your code here\n",
    "    result = [0] * (max(arr)+1)\n",
    "    print(result)\n",
    "    for item in arr:\n",
    "          result[item] = result[item] + 1\n",
    "    \n",
    "    return result"
   ]
  },
  {
   "cell_type": "code",
   "execution_count": 34,
   "id": "f0472c89",
   "metadata": {},
   "outputs": [
    {
     "name": "stdout",
     "output_type": "stream",
     "text": [
      "[0, 0, 0, 0, 0]\n"
     ]
    },
    {
     "data": {
      "text/plain": [
       "[1, 3, 1, 1, 1]"
      ]
     },
     "execution_count": 34,
     "metadata": {},
     "output_type": "execute_result"
    }
   ],
   "source": [
    "countingSort([1,1,1,2,3,4,0])"
   ]
  },
  {
   "cell_type": "code",
   "execution_count": 26,
   "id": "c5e6a85d",
   "metadata": {},
   "outputs": [
    {
     "data": {
      "text/plain": [
       "5"
      ]
     },
     "execution_count": 26,
     "metadata": {},
     "output_type": "execute_result"
    }
   ],
   "source": [
    "max([1,1,1,2,3,5])"
   ]
  },
  {
   "cell_type": "code",
   "execution_count": 35,
   "id": "05a03499",
   "metadata": {},
   "outputs": [],
   "source": [
    "string= '11 4 11 8 10 12 10 10 12 10 11 8 7 8 8 9 9 15 13 14 15 9 9 11 11 11 14 9 8 15 11 5 14 10 9 9 8 18 6 7 12 7 14 7 6 18 15 13 11 8 9 8 9 17 10 10 8 12 14 4 13 6 15 12 13 6 7 12 3 11 7 7 8 10 12 13 9 6 11 9 3 12 14 6 10 7 12 7 11 7 8 8 13 8 7 10 12 12 13 9'"
   ]
  },
  {
   "cell_type": "code",
   "execution_count": 36,
   "id": "47727a8a",
   "metadata": {},
   "outputs": [
    {
     "data": {
      "text/plain": [
       "100"
      ]
     },
     "execution_count": 36,
     "metadata": {},
     "output_type": "execute_result"
    }
   ],
   "source": [
    "len(string.split(\" \"))"
   ]
  },
  {
   "cell_type": "code",
   "execution_count": 40,
   "id": "7ade8476",
   "metadata": {},
   "outputs": [
    {
     "data": {
      "text/plain": [
       "False"
      ]
     },
     "execution_count": 40,
     "metadata": {},
     "output_type": "execute_result"
    }
   ],
   "source": [
    "'+4.5o0'.isalpha()"
   ]
  },
  {
   "cell_type": "code",
   "execution_count": 43,
   "id": "665e58f5",
   "metadata": {},
   "outputs": [],
   "source": [
    "import regex"
   ]
  },
  {
   "cell_type": "code",
   "execution_count": 82,
   "id": "a1265bef",
   "metadata": {},
   "outputs": [],
   "source": [
    "number = '+4.560'\n",
    "x = regex.search(\"^[+-.0-9][0-9]*[0-9]$\", number)"
   ]
  },
  {
   "cell_type": "code",
   "execution_count": 83,
   "id": "4fc91c52",
   "metadata": {},
   "outputs": [
    {
     "name": "stdout",
     "output_type": "stream",
     "text": [
      "None\n"
     ]
    }
   ],
   "source": [
    "if x:\n",
    "    print(\"Matched\")\n",
    "else:\n",
    "    print(\"None\")"
   ]
  },
  {
   "cell_type": "code",
   "execution_count": 49,
   "id": "c700db84",
   "metadata": {},
   "outputs": [],
   "source": []
  },
  {
   "cell_type": "code",
   "execution_count": null,
   "id": "63f5460c",
   "metadata": {},
   "outputs": [],
   "source": []
  }
 ],
 "metadata": {
  "kernelspec": {
   "display_name": "Python 3 (ipykernel)",
   "language": "python",
   "name": "python3"
  },
  "language_info": {
   "codemirror_mode": {
    "name": "ipython",
    "version": 3
   },
   "file_extension": ".py",
   "mimetype": "text/x-python",
   "name": "python",
   "nbconvert_exporter": "python",
   "pygments_lexer": "ipython3",
   "version": "3.9.12"
  }
 },
 "nbformat": 4,
 "nbformat_minor": 5
}
