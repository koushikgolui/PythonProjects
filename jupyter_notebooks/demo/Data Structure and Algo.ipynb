{
 "cells": [
  {
   "cell_type": "code",
   "execution_count": 1,
   "id": "6415f089",
   "metadata": {},
   "outputs": [],
   "source": [
    "array = [10, 12, 12, 13]"
   ]
  },
  {
   "cell_type": "code",
   "execution_count": 2,
   "id": "a9ddd44d",
   "metadata": {},
   "outputs": [
    {
     "name": "stdout",
     "output_type": "stream",
     "text": [
      "[10, 12, 12, 13]\n"
     ]
    }
   ],
   "source": [
    "print(array)"
   ]
  },
  {
   "cell_type": "code",
   "execution_count": 3,
   "id": "71916314",
   "metadata": {},
   "outputs": [
    {
     "data": {
      "text/plain": [
       "10"
      ]
     },
     "execution_count": 3,
     "metadata": {},
     "output_type": "execute_result"
    }
   ],
   "source": [
    "array[0]"
   ]
  },
  {
   "cell_type": "code",
   "execution_count": 4,
   "id": "72a7aa57",
   "metadata": {},
   "outputs": [
    {
     "data": {
      "text/plain": [
       "[10, 12, 12]"
      ]
     },
     "execution_count": 4,
     "metadata": {},
     "output_type": "execute_result"
    }
   ],
   "source": [
    "array[:-1]"
   ]
  },
  {
   "cell_type": "code",
   "execution_count": 5,
   "id": "0615a7c1",
   "metadata": {},
   "outputs": [],
   "source": [
    "array[2] = 14"
   ]
  },
  {
   "cell_type": "code",
   "execution_count": 6,
   "id": "22e39fcb",
   "metadata": {},
   "outputs": [
    {
     "data": {
      "text/plain": [
       "[10, 12, 14, 13]"
      ]
     },
     "execution_count": 6,
     "metadata": {},
     "output_type": "execute_result"
    }
   ],
   "source": [
    "array"
   ]
  },
  {
   "cell_type": "code",
   "execution_count": 8,
   "id": "8fe6f5c2",
   "metadata": {},
   "outputs": [
    {
     "name": "stdout",
     "output_type": "stream",
     "text": [
      "14\n"
     ]
    }
   ],
   "source": [
    "max = array[0]\n",
    "for item in array:\n",
    "    if item > max:\n",
    "        max = item\n",
    "print(max)"
   ]
  },
  {
   "cell_type": "markdown",
   "id": "d5a3b404",
   "metadata": {},
   "source": [
    "### Reversing an array"
   ]
  },
  {
   "cell_type": "code",
   "execution_count": 16,
   "id": "80f8aebf",
   "metadata": {},
   "outputs": [],
   "source": [
    "def reversearray(array):\n",
    "    last_index = len(array) -1\n",
    "    first_index = 0\n",
    "    while first_index < last_index:\n",
    "        array[first_index], array[last_index] = array[last_index], array[first_index]\n",
    "        first_index += 1\n",
    "        last_index -= 1\n",
    "    return(array)\n"
   ]
  },
  {
   "cell_type": "code",
   "execution_count": 17,
   "id": "df9fd729",
   "metadata": {},
   "outputs": [
    {
     "data": {
      "text/plain": [
       "[6, 5, 4, 3, 2, 1]"
      ]
     },
     "execution_count": 17,
     "metadata": {},
     "output_type": "execute_result"
    }
   ],
   "source": [
    "array =[1,2,3,4,5,6]\n",
    "reversearray(array)"
   ]
  },
  {
   "cell_type": "code",
   "execution_count": 18,
   "id": "4cc39722",
   "metadata": {},
   "outputs": [],
   "source": [
    "array.reverse()"
   ]
  },
  {
   "cell_type": "code",
   "execution_count": 19,
   "id": "4f2abd9d",
   "metadata": {},
   "outputs": [
    {
     "data": {
      "text/plain": [
       "[1, 2, 3, 4, 5, 6]"
      ]
     },
     "execution_count": 19,
     "metadata": {},
     "output_type": "execute_result"
    }
   ],
   "source": [
    "array"
   ]
  },
  {
   "cell_type": "markdown",
   "id": "f446f30c",
   "metadata": {},
   "source": [
    "### Palindrome"
   ]
  },
  {
   "cell_type": "code",
   "execution_count": 21,
   "id": "ab01e5ca",
   "metadata": {},
   "outputs": [],
   "source": [
    "def palindrome(string):\n",
    "    lowindex = 0\n",
    "    highindex =len(string) -1\n",
    "    palindrome = False\n",
    "    while highindex > lowindex:\n",
    "        \n",
    "        if string[lowindex] != string[highindex]:\n",
    "            return (f\"{string} is not a Palindrome\")\n",
    "        lowindex += 1\n",
    "        highindex -= 1\n",
    "    return(f\"{string} is a palindrome\")\n"
   ]
  },
  {
   "cell_type": "code",
   "execution_count": 22,
   "id": "33f4db14",
   "metadata": {},
   "outputs": [
    {
     "data": {
      "text/plain": [
       "'koushik is not a Palindrome'"
      ]
     },
     "execution_count": 22,
     "metadata": {},
     "output_type": "execute_result"
    }
   ],
   "source": [
    "string = \"koushik\"\n",
    "palindrome(string)"
   ]
  },
  {
   "cell_type": "code",
   "execution_count": 26,
   "id": "d3be5248",
   "metadata": {},
   "outputs": [
    {
     "data": {
      "text/plain": [
       "'racecar is a palindrome'"
      ]
     },
     "execution_count": 26,
     "metadata": {},
     "output_type": "execute_result"
    }
   ],
   "source": [
    "string = \"racecar\"\n",
    "palindrome(string)"
   ]
  },
  {
   "cell_type": "code",
   "execution_count": 27,
   "id": "2bfe6139",
   "metadata": {},
   "outputs": [],
   "source": [
    "def ispalidrome(string):\n",
    "    if string == string[::-1]:\n",
    "        return( \"Plaindrome\")\n",
    "    else:\n",
    "        return(\"not Palindrome\")\n",
    "\n",
    "    "
   ]
  },
  {
   "cell_type": "code",
   "execution_count": 28,
   "id": "48c76a85",
   "metadata": {},
   "outputs": [
    {
     "data": {
      "text/plain": [
       "'Plaindrome'"
      ]
     },
     "execution_count": 28,
     "metadata": {},
     "output_type": "execute_result"
    }
   ],
   "source": [
    "ispalidrome(\"madam\")"
   ]
  },
  {
   "cell_type": "markdown",
   "id": "a56e4d18",
   "metadata": {},
   "source": [
    "### Integer reversion"
   ]
  },
  {
   "cell_type": "code",
   "execution_count": 29,
   "id": "ef2b7878",
   "metadata": {},
   "outputs": [],
   "source": [
    "def intreversion_python(integer):\n",
    "    return(int(str(integer)[::-1]))\n",
    "    "
   ]
  },
  {
   "cell_type": "code",
   "execution_count": 30,
   "id": "efcf1220",
   "metadata": {},
   "outputs": [
    {
     "data": {
      "text/plain": [
       "532"
      ]
     },
     "execution_count": 30,
     "metadata": {},
     "output_type": "execute_result"
    }
   ],
   "source": [
    "intreversion_python(235)"
   ]
  },
  {
   "cell_type": "code",
   "execution_count": 35,
   "id": "428bcc72",
   "metadata": {},
   "outputs": [],
   "source": [
    "def reverse_integer(integer):\n",
    "    reversed_int = 0\n",
    "    remainder = 0\n",
    "    \n",
    "    while integer > 0:\n",
    "        remainder = integer % 10\n",
    "        integer = integer // 10\n",
    "        reversed_int = reversed_int * 10 + remainder\n",
    "        \n",
    "    return reversed_int"
   ]
  },
  {
   "cell_type": "code",
   "execution_count": 36,
   "id": "c220c341",
   "metadata": {},
   "outputs": [
    {
     "data": {
      "text/plain": [
       "76789"
      ]
     },
     "execution_count": 36,
     "metadata": {},
     "output_type": "execute_result"
    }
   ],
   "source": [
    "reverse_integer(98767)"
   ]
  },
  {
   "cell_type": "markdown",
   "id": "52ecc077",
   "metadata": {},
   "source": [
    "### Anagram"
   ]
  },
  {
   "cell_type": "code",
   "execution_count": 71,
   "id": "b0c0a004",
   "metadata": {},
   "outputs": [],
   "source": [
    "def isanagram(word1, word2):\n",
    "    if len(word1) != len(word2):\n",
    "        return (\"not anagram\")\n",
    "    if sorted(word1) == sorted(word2):\n",
    "        return \"anagram\"\n",
    "    else:\n",
    "        return(\"not anagram\")"
   ]
  },
  {
   "cell_type": "code",
   "execution_count": 76,
   "id": "0e9d7a08",
   "metadata": {},
   "outputs": [
    {
     "data": {
      "text/plain": [
       "'not anagram'"
      ]
     },
     "execution_count": 76,
     "metadata": {},
     "output_type": "execute_result"
    }
   ],
   "source": [
    "isanagram('restfull', 'fluster')"
   ]
  },
  {
   "cell_type": "code",
   "execution_count": 67,
   "id": "70f946df",
   "metadata": {},
   "outputs": [
    {
     "ename": "TypeError",
     "evalue": "'set' object is not callable",
     "output_type": "error",
     "traceback": [
      "\u001b[1;31m---------------------------------------------------------------------------\u001b[0m",
      "\u001b[1;31mTypeError\u001b[0m                                 Traceback (most recent call last)",
      "Input \u001b[1;32mIn [67]\u001b[0m, in \u001b[0;36m<cell line: 1>\u001b[1;34m()\u001b[0m\n\u001b[1;32m----> 1\u001b[0m \u001b[38;5;28;43mset\u001b[39;49m\u001b[43m(\u001b[49m\u001b[38;5;124;43m\"\u001b[39;49m\u001b[38;5;124;43mgood\u001b[39;49m\u001b[38;5;124;43m\"\u001b[39;49m\u001b[43m)\u001b[49m\n",
      "\u001b[1;31mTypeError\u001b[0m: 'set' object is not callable"
     ]
    }
   ],
   "source": [
    "def isanagram2(word1, word2):\n",
    "    if len(word1) != len(word2):\n",
    "        return (\"not anagram\")\n",
    "    if sorted(word1) == sorted(word2):\n",
    "        return \"anagram\"\n",
    "    else:\n",
    "        return(\"not anagram\")"
   ]
  },
  {
   "cell_type": "code",
   "execution_count": 62,
   "id": "d6d53879",
   "metadata": {},
   "outputs": [
    {
     "ename": "TypeError",
     "evalue": "unhashable type: 'list'",
     "output_type": "error",
     "traceback": [
      "\u001b[1;31m---------------------------------------------------------------------------\u001b[0m",
      "\u001b[1;31mTypeError\u001b[0m                                 Traceback (most recent call last)",
      "Input \u001b[1;32mIn [62]\u001b[0m, in \u001b[0;36m<cell line: 3>\u001b[1;34m()\u001b[0m\n\u001b[0;32m      1\u001b[0m s \u001b[38;5;241m=\u001b[39m \u001b[38;5;124m\"\u001b[39m\u001b[38;5;124mI am good\u001b[39m\u001b[38;5;124m\"\u001b[39m\n\u001b[0;32m      2\u001b[0m l \u001b[38;5;241m=\u001b[39m \u001b[38;5;28mlist\u001b[39m(s)\n\u001b[1;32m----> 3\u001b[0m f \u001b[38;5;241m=\u001b[39m {l}\n",
      "\u001b[1;31mTypeError\u001b[0m: unhashable type: 'list'"
     ]
    }
   ],
   "source": [
    "s = \"I am good\"\n",
    "l = list(s)\n",
    "f = {l}"
   ]
  },
  {
   "cell_type": "code",
   "execution_count": 63,
   "id": "9710da84",
   "metadata": {},
   "outputs": [],
   "source": [
    "lst = ['a','v']\n",
    "lst.extend('c')"
   ]
  },
  {
   "cell_type": "code",
   "execution_count": 64,
   "id": "bf8101b6",
   "metadata": {},
   "outputs": [
    {
     "data": {
      "text/plain": [
       "['a', 'v', 'c']"
      ]
     },
     "execution_count": 64,
     "metadata": {},
     "output_type": "execute_result"
    }
   ],
   "source": [
    "lst"
   ]
  },
  {
   "cell_type": "markdown",
   "id": "ea835e63",
   "metadata": {},
   "source": [
    "### Dutch National Flag Problem"
   ]
  },
  {
   "cell_type": "markdown",
   "id": "98142a13",
   "metadata": {},
   "source": [
    "#### solution 1"
   ]
  },
  {
   "cell_type": "code",
   "execution_count": 166,
   "id": "4fbb9d6b",
   "metadata": {},
   "outputs": [],
   "source": [
    "def dutchprob1(nums):\n",
    "    low = []\n",
    "    same = []\n",
    "    high = []\n",
    "    pivot = 1\n",
    "    for num in nums:\n",
    "        if num < pivot:\n",
    "            low.append(num)\n",
    "        elif num > pivot:\n",
    "            high.append(num)\n",
    "        else:\n",
    "            same.append(num)\n",
    "    return low + same + high"
   ]
  },
  {
   "cell_type": "code",
   "execution_count": 167,
   "id": "6d306462",
   "metadata": {},
   "outputs": [
    {
     "data": {
      "text/plain": [
       "[0, 0, 0, 1, 1, 1, 2]"
      ]
     },
     "execution_count": 167,
     "metadata": {},
     "output_type": "execute_result"
    }
   ],
   "source": [
    "nums = [1,0,0, 1, 2, 0 ,1]\n",
    "dutchprob1(nums)"
   ]
  },
  {
   "cell_type": "code",
   "execution_count": 173,
   "id": "4a97a4f6",
   "metadata": {},
   "outputs": [],
   "source": [
    "def inplacedutchprob(nums):\n",
    "    i = 0\n",
    "    j = 0\n",
    "    k = len(nums) -1\n",
    "    pivot = 1\n",
    "    \n",
    "    while j <= k:\n",
    "        if nums[j] < pivot:\n",
    "            nums[i], nums[j] = nums[j], nums[i]\n",
    "            j += 1\n",
    "            i += 1\n",
    "        elif nums[j] > pivot:\n",
    "            nums[j], nums[k] = nums[k], nums[j]\n",
    "            k -= 1\n",
    "        else:\n",
    "            j += 1\n",
    "        print(nums)\n",
    "    return nums\n",
    "            \n",
    "            "
   ]
  },
  {
   "cell_type": "code",
   "execution_count": 174,
   "id": "39522df2",
   "metadata": {},
   "outputs": [
    {
     "name": "stdout",
     "output_type": "stream",
     "text": [
      "[1, 0, 0, 1, 2, 0, 1, 2, 1, 0]\n",
      "[0, 1, 0, 1, 2, 0, 1, 2, 1, 0]\n",
      "[0, 0, 1, 1, 2, 0, 1, 2, 1, 0]\n",
      "[0, 0, 1, 1, 2, 0, 1, 2, 1, 0]\n",
      "[0, 0, 1, 1, 0, 0, 1, 2, 1, 2]\n",
      "[0, 0, 0, 1, 1, 0, 1, 2, 1, 2]\n",
      "[0, 0, 0, 0, 1, 1, 1, 2, 1, 2]\n",
      "[0, 0, 0, 0, 1, 1, 1, 2, 1, 2]\n",
      "[0, 0, 0, 0, 1, 1, 1, 1, 2, 2]\n",
      "[0, 0, 0, 0, 1, 1, 1, 1, 2, 2]\n"
     ]
    },
    {
     "data": {
      "text/plain": [
       "[0, 0, 0, 0, 1, 1, 1, 1, 2, 2]"
      ]
     },
     "execution_count": 174,
     "metadata": {},
     "output_type": "execute_result"
    }
   ],
   "source": [
    "nums = [1,0,0, 1, 2, 0 ,1, 2, 1, 0]\n",
    "inplacedutchprob(nums)"
   ]
  },
  {
   "cell_type": "code",
   "execution_count": null,
   "id": "05492620",
   "metadata": {},
   "outputs": [],
   "source": []
  },
  {
   "cell_type": "code",
   "execution_count": null,
   "id": "91fbb672",
   "metadata": {},
   "outputs": [],
   "source": []
  },
  {
   "cell_type": "code",
   "execution_count": null,
   "id": "a13d5b1b",
   "metadata": {},
   "outputs": [],
   "source": []
  },
  {
   "cell_type": "code",
   "execution_count": 138,
   "id": "67469680",
   "metadata": {},
   "outputs": [],
   "source": [
    "def bubble_sort_integers(integers):\n",
    "    n = len(integers)\n",
    "    \n",
    "    for i in range(n):\n",
    "        already_sorted = True\n",
    "        \n",
    "        for j in range(n -i -1):\n",
    "            if integers[j] > integers[j+1]:\n",
    "                integers[j], integers[j+1] = integers[j+1], integers[j]\n",
    "                already_sorted = False\n",
    "            \n",
    "        if already_sorted:\n",
    "            break\n",
    "    return integers\n",
    "                \n",
    "            \n"
   ]
  },
  {
   "cell_type": "code",
   "execution_count": 140,
   "id": "006bc6db",
   "metadata": {},
   "outputs": [
    {
     "data": {
      "text/plain": [
       "[4, 5, 9, 14, 15, 18]"
      ]
     },
     "execution_count": 140,
     "metadata": {},
     "output_type": "execute_result"
    }
   ],
   "source": [
    "integers = [14,15,18,9, 5, 4]\n",
    "bubble_sort_integers(integers)"
   ]
  },
  {
   "cell_type": "code",
   "execution_count": 128,
   "id": "e95047a1",
   "metadata": {},
   "outputs": [
    {
     "name": "stdout",
     "output_type": "stream",
     "text": [
      "for value of j=0(8) - [7, 8, 6, 5, 4, 3, 2, 1]\n",
      "for value of j=1(8) - [7, 6, 8, 5, 4, 3, 2, 1]\n",
      "for value of j=2(8) - [7, 6, 5, 8, 4, 3, 2, 1]\n",
      "for value of j=3(8) - [7, 6, 5, 4, 8, 3, 2, 1]\n",
      "for value of j=4(8) - [7, 6, 5, 4, 3, 8, 2, 1]\n",
      "for value of j=5(8) - [7, 6, 5, 4, 3, 2, 8, 1]\n",
      "for value of j=6(8) - [7, 6, 5, 4, 3, 2, 1, 8]\n",
      "after iteration - 0 - [7, 6, 5, 4, 3, 2, 1, 8]\n",
      "for value of j=0(7) - [6, 7, 5, 4, 3, 2, 1, 8]\n",
      "for value of j=1(7) - [6, 5, 7, 4, 3, 2, 1, 8]\n",
      "for value of j=2(7) - [6, 5, 4, 7, 3, 2, 1, 8]\n",
      "for value of j=3(7) - [6, 5, 4, 3, 7, 2, 1, 8]\n",
      "for value of j=4(7) - [6, 5, 4, 3, 2, 7, 1, 8]\n",
      "for value of j=5(7) - [6, 5, 4, 3, 2, 1, 7, 8]\n",
      "for value of j=6(7) - [6, 5, 4, 3, 2, 1, 7, 8]\n",
      "after iteration - 1 - [6, 5, 4, 3, 2, 1, 7, 8]\n",
      "for value of j=0(6) - [5, 6, 4, 3, 2, 1, 7, 8]\n",
      "for value of j=1(6) - [5, 4, 6, 3, 2, 1, 7, 8]\n",
      "for value of j=2(6) - [5, 4, 3, 6, 2, 1, 7, 8]\n",
      "for value of j=3(6) - [5, 4, 3, 2, 6, 1, 7, 8]\n",
      "for value of j=4(6) - [5, 4, 3, 2, 1, 6, 7, 8]\n",
      "for value of j=5(6) - [5, 4, 3, 2, 1, 6, 7, 8]\n",
      "for value of j=6(7) - [5, 4, 3, 2, 1, 6, 7, 8]\n",
      "after iteration - 2 - [5, 4, 3, 2, 1, 6, 7, 8]\n",
      "for value of j=0(5) - [4, 5, 3, 2, 1, 6, 7, 8]\n",
      "for value of j=1(5) - [4, 3, 5, 2, 1, 6, 7, 8]\n",
      "for value of j=2(5) - [4, 3, 2, 5, 1, 6, 7, 8]\n",
      "for value of j=3(5) - [4, 3, 2, 1, 5, 6, 7, 8]\n",
      "for value of j=4(5) - [4, 3, 2, 1, 5, 6, 7, 8]\n",
      "for value of j=5(6) - [4, 3, 2, 1, 5, 6, 7, 8]\n",
      "for value of j=6(7) - [4, 3, 2, 1, 5, 6, 7, 8]\n",
      "after iteration - 3 - [4, 3, 2, 1, 5, 6, 7, 8]\n",
      "for value of j=0(4) - [3, 4, 2, 1, 5, 6, 7, 8]\n",
      "for value of j=1(4) - [3, 2, 4, 1, 5, 6, 7, 8]\n",
      "for value of j=2(4) - [3, 2, 1, 4, 5, 6, 7, 8]\n",
      "for value of j=3(4) - [3, 2, 1, 4, 5, 6, 7, 8]\n",
      "for value of j=4(5) - [3, 2, 1, 4, 5, 6, 7, 8]\n",
      "for value of j=5(6) - [3, 2, 1, 4, 5, 6, 7, 8]\n",
      "for value of j=6(7) - [3, 2, 1, 4, 5, 6, 7, 8]\n",
      "after iteration - 4 - [3, 2, 1, 4, 5, 6, 7, 8]\n",
      "for value of j=0(3) - [2, 3, 1, 4, 5, 6, 7, 8]\n",
      "for value of j=1(3) - [2, 1, 3, 4, 5, 6, 7, 8]\n",
      "for value of j=2(3) - [2, 1, 3, 4, 5, 6, 7, 8]\n",
      "for value of j=3(4) - [2, 1, 3, 4, 5, 6, 7, 8]\n",
      "for value of j=4(5) - [2, 1, 3, 4, 5, 6, 7, 8]\n",
      "for value of j=5(6) - [2, 1, 3, 4, 5, 6, 7, 8]\n",
      "for value of j=6(7) - [2, 1, 3, 4, 5, 6, 7, 8]\n",
      "after iteration - 5 - [2, 1, 3, 4, 5, 6, 7, 8]\n",
      "for value of j=0(2) - [1, 2, 3, 4, 5, 6, 7, 8]\n",
      "for value of j=1(2) - [1, 2, 3, 4, 5, 6, 7, 8]\n",
      "for value of j=2(3) - [1, 2, 3, 4, 5, 6, 7, 8]\n",
      "for value of j=3(4) - [1, 2, 3, 4, 5, 6, 7, 8]\n",
      "for value of j=4(5) - [1, 2, 3, 4, 5, 6, 7, 8]\n",
      "for value of j=5(6) - [1, 2, 3, 4, 5, 6, 7, 8]\n",
      "for value of j=6(7) - [1, 2, 3, 4, 5, 6, 7, 8]\n",
      "after iteration - 6 - [1, 2, 3, 4, 5, 6, 7, 8]\n",
      "for value of j=0(1) - [1, 2, 3, 4, 5, 6, 7, 8]\n",
      "for value of j=1(2) - [1, 2, 3, 4, 5, 6, 7, 8]\n",
      "for value of j=2(3) - [1, 2, 3, 4, 5, 6, 7, 8]\n",
      "for value of j=3(4) - [1, 2, 3, 4, 5, 6, 7, 8]\n",
      "for value of j=4(5) - [1, 2, 3, 4, 5, 6, 7, 8]\n",
      "for value of j=5(6) - [1, 2, 3, 4, 5, 6, 7, 8]\n",
      "for value of j=6(7) - [1, 2, 3, 4, 5, 6, 7, 8]\n",
      "after iteration - 7 - [1, 2, 3, 4, 5, 6, 7, 8]\n"
     ]
    }
   ],
   "source": [
    "x = [8,7,6,5,4,3,2,1]\n",
    "for i in range(len(x)):\n",
    "    for j in range(len(x) -i -1):\n",
    "        val = x[j]\n",
    "        if x[j] > x[j+1]:\n",
    "            x[j], x[j+1] = x[j+1], x[j]\n",
    "        print(f\"for value of j={j}({val}) - {x}\")\n",
    "    print(f\"after iteration - {i} - {x}\")"
   ]
  },
  {
   "cell_type": "code",
   "execution_count": 158,
   "id": "b8efe083",
   "metadata": {},
   "outputs": [],
   "source": [
    "def insertionsort(x):\n",
    "    n = len(x)\n",
    "    for i in range(1, n):\n",
    "        key_item = x[i]\n",
    "        print(f\"key item - {key_item}\")\n",
    "        \n",
    "        j = i-1\n",
    "        while j >= 0 and x[j] > key_item:\n",
    "            x[j+1] = x[j]\n",
    "            print(f\"before {j} - {x}\")\n",
    "            j -= 1\n",
    "        x[j+1] = key_item\n",
    "        print(x)\n",
    "    return x\n",
    "            "
   ]
  },
  {
   "cell_type": "code",
   "execution_count": 159,
   "id": "dd19d79f",
   "metadata": {
    "collapsed": true
   },
   "outputs": [
    {
     "name": "stdout",
     "output_type": "stream",
     "text": [
      "key item - 12\n",
      "before 0 - [21, 21, 14, 15, 18, 9, 5, 4, 20, 6, 2]\n",
      "[12, 21, 14, 15, 18, 9, 5, 4, 20, 6, 2]\n",
      "key item - 14\n",
      "before 1 - [12, 21, 21, 15, 18, 9, 5, 4, 20, 6, 2]\n",
      "[12, 14, 21, 15, 18, 9, 5, 4, 20, 6, 2]\n",
      "key item - 15\n",
      "before 2 - [12, 14, 21, 21, 18, 9, 5, 4, 20, 6, 2]\n",
      "[12, 14, 15, 21, 18, 9, 5, 4, 20, 6, 2]\n",
      "key item - 18\n",
      "before 3 - [12, 14, 15, 21, 21, 9, 5, 4, 20, 6, 2]\n",
      "[12, 14, 15, 18, 21, 9, 5, 4, 20, 6, 2]\n",
      "key item - 9\n",
      "before 4 - [12, 14, 15, 18, 21, 21, 5, 4, 20, 6, 2]\n",
      "before 3 - [12, 14, 15, 18, 18, 21, 5, 4, 20, 6, 2]\n",
      "before 2 - [12, 14, 15, 15, 18, 21, 5, 4, 20, 6, 2]\n",
      "before 1 - [12, 14, 14, 15, 18, 21, 5, 4, 20, 6, 2]\n",
      "before 0 - [12, 12, 14, 15, 18, 21, 5, 4, 20, 6, 2]\n",
      "[9, 12, 14, 15, 18, 21, 5, 4, 20, 6, 2]\n",
      "key item - 5\n",
      "before 5 - [9, 12, 14, 15, 18, 21, 21, 4, 20, 6, 2]\n",
      "before 4 - [9, 12, 14, 15, 18, 18, 21, 4, 20, 6, 2]\n",
      "before 3 - [9, 12, 14, 15, 15, 18, 21, 4, 20, 6, 2]\n",
      "before 2 - [9, 12, 14, 14, 15, 18, 21, 4, 20, 6, 2]\n",
      "before 1 - [9, 12, 12, 14, 15, 18, 21, 4, 20, 6, 2]\n",
      "before 0 - [9, 9, 12, 14, 15, 18, 21, 4, 20, 6, 2]\n",
      "[5, 9, 12, 14, 15, 18, 21, 4, 20, 6, 2]\n",
      "key item - 4\n",
      "before 6 - [5, 9, 12, 14, 15, 18, 21, 21, 20, 6, 2]\n",
      "before 5 - [5, 9, 12, 14, 15, 18, 18, 21, 20, 6, 2]\n",
      "before 4 - [5, 9, 12, 14, 15, 15, 18, 21, 20, 6, 2]\n",
      "before 3 - [5, 9, 12, 14, 14, 15, 18, 21, 20, 6, 2]\n",
      "before 2 - [5, 9, 12, 12, 14, 15, 18, 21, 20, 6, 2]\n",
      "before 1 - [5, 9, 9, 12, 14, 15, 18, 21, 20, 6, 2]\n",
      "before 0 - [5, 5, 9, 12, 14, 15, 18, 21, 20, 6, 2]\n",
      "[4, 5, 9, 12, 14, 15, 18, 21, 20, 6, 2]\n",
      "key item - 20\n",
      "before 7 - [4, 5, 9, 12, 14, 15, 18, 21, 21, 6, 2]\n",
      "[4, 5, 9, 12, 14, 15, 18, 20, 21, 6, 2]\n",
      "key item - 6\n",
      "before 8 - [4, 5, 9, 12, 14, 15, 18, 20, 21, 21, 2]\n",
      "before 7 - [4, 5, 9, 12, 14, 15, 18, 20, 20, 21, 2]\n",
      "before 6 - [4, 5, 9, 12, 14, 15, 18, 18, 20, 21, 2]\n",
      "before 5 - [4, 5, 9, 12, 14, 15, 15, 18, 20, 21, 2]\n",
      "before 4 - [4, 5, 9, 12, 14, 14, 15, 18, 20, 21, 2]\n",
      "before 3 - [4, 5, 9, 12, 12, 14, 15, 18, 20, 21, 2]\n",
      "before 2 - [4, 5, 9, 9, 12, 14, 15, 18, 20, 21, 2]\n",
      "[4, 5, 6, 9, 12, 14, 15, 18, 20, 21, 2]\n",
      "key item - 2\n",
      "before 9 - [4, 5, 6, 9, 12, 14, 15, 18, 20, 21, 21]\n",
      "before 8 - [4, 5, 6, 9, 12, 14, 15, 18, 20, 20, 21]\n",
      "before 7 - [4, 5, 6, 9, 12, 14, 15, 18, 18, 20, 21]\n",
      "before 6 - [4, 5, 6, 9, 12, 14, 15, 15, 18, 20, 21]\n",
      "before 5 - [4, 5, 6, 9, 12, 14, 14, 15, 18, 20, 21]\n",
      "before 4 - [4, 5, 6, 9, 12, 12, 14, 15, 18, 20, 21]\n",
      "before 3 - [4, 5, 6, 9, 9, 12, 14, 15, 18, 20, 21]\n",
      "before 2 - [4, 5, 6, 6, 9, 12, 14, 15, 18, 20, 21]\n",
      "before 1 - [4, 5, 5, 6, 9, 12, 14, 15, 18, 20, 21]\n",
      "before 0 - [4, 4, 5, 6, 9, 12, 14, 15, 18, 20, 21]\n",
      "[2, 4, 5, 6, 9, 12, 14, 15, 18, 20, 21]\n"
     ]
    },
    {
     "data": {
      "text/plain": [
       "[2, 4, 5, 6, 9, 12, 14, 15, 18, 20, 21]"
      ]
     },
     "execution_count": 159,
     "metadata": {},
     "output_type": "execute_result"
    }
   ],
   "source": [
    "x = [21, 12,14,15,18,9, 5, 4, 20, 6, 2]\n",
    "insertionsort(x)"
   ]
  },
  {
   "cell_type": "code",
   "execution_count": 160,
   "id": "293e2cf1",
   "metadata": {},
   "outputs": [],
   "source": [
    "from random import randint"
   ]
  },
  {
   "cell_type": "code",
   "execution_count": 161,
   "id": "b02fb270",
   "metadata": {},
   "outputs": [
    {
     "data": {
      "text/plain": [
       "3"
      ]
     },
     "execution_count": 161,
     "metadata": {},
     "output_type": "execute_result"
    }
   ],
   "source": [
    "array[randint(1, 10)]"
   ]
  },
  {
   "cell_type": "code",
   "execution_count": null,
   "id": "d4ef90a5",
   "metadata": {},
   "outputs": [],
   "source": []
  }
 ],
 "metadata": {
  "kernelspec": {
   "display_name": "Python 3 (ipykernel)",
   "language": "python",
   "name": "python3"
  },
  "language_info": {
   "codemirror_mode": {
    "name": "ipython",
    "version": 3
   },
   "file_extension": ".py",
   "mimetype": "text/x-python",
   "name": "python",
   "nbconvert_exporter": "python",
   "pygments_lexer": "ipython3",
   "version": "3.9.12"
  }
 },
 "nbformat": 4,
 "nbformat_minor": 5
}
