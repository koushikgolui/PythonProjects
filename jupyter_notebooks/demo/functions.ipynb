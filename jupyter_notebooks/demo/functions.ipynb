{
 "cells": [
  {
   "cell_type": "code",
   "execution_count": 2,
   "id": "c36e5445",
   "metadata": {},
   "outputs": [],
   "source": [
    "def lesser_of_two_evens(a,b):\n",
    "    if a%2 == 0 and b%2 == 0:\n",
    "        return b if a > b else a\n",
    "    else:\n",
    "        return a if a > b else b"
   ]
  },
  {
   "cell_type": "code",
   "execution_count": 3,
   "id": "d0932412",
   "metadata": {},
   "outputs": [
    {
     "data": {
      "text/plain": [
       "2"
      ]
     },
     "execution_count": 3,
     "metadata": {},
     "output_type": "execute_result"
    }
   ],
   "source": [
    "lesser_of_two_evens(2,4)"
   ]
  },
  {
   "cell_type": "code",
   "execution_count": 4,
   "id": "95707331",
   "metadata": {},
   "outputs": [
    {
     "data": {
      "text/plain": [
       "5"
      ]
     },
     "execution_count": 4,
     "metadata": {},
     "output_type": "execute_result"
    }
   ],
   "source": [
    "lesser_of_two_evens(3,5)"
   ]
  },
  {
   "cell_type": "code",
   "execution_count": 5,
   "id": "514f9dc2",
   "metadata": {},
   "outputs": [
    {
     "data": {
      "text/plain": [
       "5"
      ]
     },
     "execution_count": 5,
     "metadata": {},
     "output_type": "execute_result"
    }
   ],
   "source": [
    "lesser_of_two_evens(2,5)"
   ]
  },
  {
   "cell_type": "code",
   "execution_count": 7,
   "id": "cd679a27",
   "metadata": {},
   "outputs": [],
   "source": [
    "def animal_crackers(string):\n",
    "    words = string.split(\" \")\n",
    "    return words[0][0] == words[1][0]"
   ]
  },
  {
   "cell_type": "code",
   "execution_count": 8,
   "id": "8e38eca0",
   "metadata": {},
   "outputs": [
    {
     "data": {
      "text/plain": [
       "True"
      ]
     },
     "execution_count": 8,
     "metadata": {},
     "output_type": "execute_result"
    }
   ],
   "source": [
    "animal_crackers(\"Level Llama\")"
   ]
  },
  {
   "cell_type": "code",
   "execution_count": 9,
   "id": "ff0c5351",
   "metadata": {},
   "outputs": [
    {
     "data": {
      "text/plain": [
       "False"
      ]
     },
     "execution_count": 9,
     "metadata": {},
     "output_type": "execute_result"
    }
   ],
   "source": [
    "animal_crackers(\"Crazy Llama\")"
   ]
  },
  {
   "cell_type": "code",
   "execution_count": 17,
   "id": "2cdcdf6f",
   "metadata": {},
   "outputs": [],
   "source": [
    "def makes_twenty(int1, int2):\n",
    "    int1 = int(int1)\n",
    "    int2 = int(int2)\n",
    "    \n",
    "    if int1 + int2 == 20:\n",
    "        return True\n",
    "    elif int1 == 20 or int2 == 20:\n",
    "        return True\n",
    "    else:\n",
    "        return False"
   ]
  },
  {
   "cell_type": "code",
   "execution_count": 18,
   "id": "f28a42ca",
   "metadata": {},
   "outputs": [
    {
     "data": {
      "text/plain": [
       "True"
      ]
     },
     "execution_count": 18,
     "metadata": {},
     "output_type": "execute_result"
    }
   ],
   "source": [
    "makes_twenty(20,10)"
   ]
  },
  {
   "cell_type": "code",
   "execution_count": 19,
   "id": "909cdc1e",
   "metadata": {},
   "outputs": [],
   "source": [
    "def old_macdonald(name):\n",
    "    first_half = name[:3]\n",
    "    second_half = name[3:]\n",
    "    return first_half.capitalize() + second_half.capitalize()"
   ]
  },
  {
   "cell_type": "code",
   "execution_count": 20,
   "id": "fe84a95f",
   "metadata": {},
   "outputs": [
    {
     "data": {
      "text/plain": [
       "'McdOnald'"
      ]
     },
     "execution_count": 20,
     "metadata": {},
     "output_type": "execute_result"
    }
   ],
   "source": [
    "old_macdonald(\"mcdonald\")"
   ]
  },
  {
   "cell_type": "code",
   "execution_count": 32,
   "id": "8f734757",
   "metadata": {},
   "outputs": [],
   "source": [
    "def master_yoda(text):\n",
    "    wordlist = text.split(\" \")\n",
    "    reversed_list = reversed(wordlist)\n",
    "    #print(reversed_list)\n",
    "    return \" \".join(reversed_list)"
   ]
  },
  {
   "cell_type": "code",
   "execution_count": 33,
   "id": "de371d78",
   "metadata": {},
   "outputs": [
    {
     "data": {
      "text/plain": [
       "'Home am I'"
      ]
     },
     "execution_count": 33,
     "metadata": {},
     "output_type": "execute_result"
    }
   ],
   "source": [
    "master_yoda(\"I am Home\")"
   ]
  },
  {
   "cell_type": "code",
   "execution_count": 35,
   "id": "13bec4ba",
   "metadata": {},
   "outputs": [],
   "source": [
    "def almost_there(n):\n",
    "    if 90 <= n <= 110 or 190 <= n <= 210:\n",
    "        return True\n",
    "    else:\n",
    "        return False"
   ]
  },
  {
   "cell_type": "code",
   "execution_count": 36,
   "id": "f0de664d",
   "metadata": {},
   "outputs": [
    {
     "data": {
      "text/plain": [
       "True"
      ]
     },
     "execution_count": 36,
     "metadata": {},
     "output_type": "execute_result"
    }
   ],
   "source": [
    "almost_there(104)"
   ]
  },
  {
   "cell_type": "code",
   "execution_count": 37,
   "id": "9ded4020",
   "metadata": {},
   "outputs": [
    {
     "data": {
      "text/plain": [
       "False"
      ]
     },
     "execution_count": 37,
     "metadata": {},
     "output_type": "execute_result"
    }
   ],
   "source": [
    "almost_there(150)"
   ]
  },
  {
   "cell_type": "code",
   "execution_count": 67,
   "id": "78c3794d",
   "metadata": {},
   "outputs": [],
   "source": [
    "def has_33(nums):\n",
    "    for i in range(len(nums)-1):\n",
    "        if nums[i] == 3 and nums[i+1] == 3:\n",
    "            \n",
    "            return True\n",
    "    return False\n"
   ]
  },
  {
   "cell_type": "code",
   "execution_count": 68,
   "id": "0f2cf91c",
   "metadata": {},
   "outputs": [
    {
     "data": {
      "text/plain": [
       "False"
      ]
     },
     "execution_count": 68,
     "metadata": {},
     "output_type": "execute_result"
    }
   ],
   "source": [
    "has_33([1,2,3])"
   ]
  },
  {
   "cell_type": "code",
   "execution_count": 69,
   "id": "81ec84cf",
   "metadata": {},
   "outputs": [
    {
     "data": {
      "text/plain": [
       "True"
      ]
     },
     "execution_count": 69,
     "metadata": {},
     "output_type": "execute_result"
    }
   ],
   "source": [
    "has_33([1,2,3,4,3,3])"
   ]
  },
  {
   "cell_type": "code",
   "execution_count": 74,
   "id": "b237979e",
   "metadata": {},
   "outputs": [],
   "source": [
    "def paper_doll(text):\n",
    "    new_text =''\n",
    "    for letter in text:\n",
    "        letter *= 3\n",
    "        new_text += letter\n",
    "    return new_text"
   ]
  },
  {
   "cell_type": "code",
   "execution_count": 75,
   "id": "cc06ba85",
   "metadata": {},
   "outputs": [
    {
     "data": {
      "text/plain": [
       "'hhheeellllllooo'"
      ]
     },
     "execution_count": 75,
     "metadata": {},
     "output_type": "execute_result"
    }
   ],
   "source": [
    "paper_doll(\"hello\")"
   ]
  },
  {
   "cell_type": "code",
   "execution_count": 99,
   "id": "ce690996",
   "metadata": {},
   "outputs": [],
   "source": [
    "def blackjack(a,b,c):\n",
    "    nums = [a,b,c]\n",
    "    #print(nums)\n",
    "    sums = 0\n",
    "    if 11 in nums and sum(nums)> 21:\n",
    "        sums = sum(nums) - 10\n",
    "    else:\n",
    "        sums = sum(nums)\n",
    "    if sums > 21:\n",
    "        return \"BUSTED\"\n",
    "    else:\n",
    "        return sums\n",
    "        "
   ]
  },
  {
   "cell_type": "code",
   "execution_count": 102,
   "id": "d6c86909",
   "metadata": {},
   "outputs": [
    {
     "data": {
      "text/plain": [
       "19"
      ]
     },
     "execution_count": 102,
     "metadata": {},
     "output_type": "execute_result"
    }
   ],
   "source": [
    "blackjack(9,9,11)"
   ]
  },
  {
   "cell_type": "code",
   "execution_count": 107,
   "id": "ccc24972",
   "metadata": {},
   "outputs": [],
   "source": [
    "def summer_69(arr):\n",
    "    \n",
    "    list_to_exclude = []\n",
    "    \n",
    "    if 6 in arr and 9 in arr:\n",
    "        if arr.index(9) > arr.index(6):\n",
    "            list_to_exclude = arr[arr.index(6): arr.index(9) +1]\n",
    "        else:\n",
    "            return \"Wrong Array\"\n",
    "    return sum(arr) - sum(list_to_exclude)\n",
    "            "
   ]
  },
  {
   "cell_type": "code",
   "execution_count": 108,
   "id": "b569b7b9",
   "metadata": {},
   "outputs": [
    {
     "data": {
      "text/plain": [
       "9"
      ]
     },
     "execution_count": 108,
     "metadata": {},
     "output_type": "execute_result"
    }
   ],
   "source": [
    "summer_69([1,3,5])"
   ]
  },
  {
   "cell_type": "code",
   "execution_count": 109,
   "id": "a26d557c",
   "metadata": {},
   "outputs": [
    {
     "data": {
      "text/plain": [
       "9"
      ]
     },
     "execution_count": 109,
     "metadata": {},
     "output_type": "execute_result"
    }
   ],
   "source": [
    "summer_69([4,5,6,7,8,9])"
   ]
  },
  {
   "cell_type": "code",
   "execution_count": 110,
   "id": "0c39496f",
   "metadata": {},
   "outputs": [
    {
     "data": {
      "text/plain": [
       "14"
      ]
     },
     "execution_count": 110,
     "metadata": {},
     "output_type": "execute_result"
    }
   ],
   "source": [
    "summer_69([2,1,6,9,11])"
   ]
  },
  {
   "cell_type": "code",
   "execution_count": 113,
   "id": "ecb2d506",
   "metadata": {},
   "outputs": [],
   "source": [
    "def spy_games(numbers):\n",
    "    spy =''\n",
    "    for number in numbers:\n",
    "        if number == 0 or number == 7:\n",
    "            spy += str(number)\n",
    "    if '007' in spy:\n",
    "        return True\n",
    "    else:\n",
    "        return False\n",
    "    \n",
    "            "
   ]
  },
  {
   "cell_type": "code",
   "execution_count": 114,
   "id": "39a4152d",
   "metadata": {},
   "outputs": [
    {
     "data": {
      "text/plain": [
       "True"
      ]
     },
     "execution_count": 114,
     "metadata": {},
     "output_type": "execute_result"
    }
   ],
   "source": [
    "spy_games([1,2,4,0,6,0,7,0])"
   ]
  },
  {
   "cell_type": "code",
   "execution_count": 115,
   "id": "8fde2431",
   "metadata": {},
   "outputs": [
    {
     "data": {
      "text/plain": [
       "False"
      ]
     },
     "execution_count": 115,
     "metadata": {},
     "output_type": "execute_result"
    }
   ],
   "source": [
    "spy_games([1,7,2,0,0])"
   ]
  },
  {
   "cell_type": "code",
   "execution_count": 153,
   "id": "a1cf6b9b",
   "metadata": {},
   "outputs": [],
   "source": [
    "def count_primes(n):\n",
    "    count = 0\n",
    "    for num in range(2, n+1):\n",
    "        for j in range (2, int(num/2) + 1):\n",
    "            if num%j ==0 :\n",
    "                break\n",
    "        else:\n",
    "            print(num, \"is a prime number\")    \n",
    "            count = count+1\n",
    "    return count"
   ]
  },
  {
   "cell_type": "code",
   "execution_count": 154,
   "id": "955ebb49",
   "metadata": {
    "collapsed": true
   },
   "outputs": [
    {
     "name": "stdout",
     "output_type": "stream",
     "text": [
      "2 is a prime number\n",
      "3 is a prime number\n",
      "5 is a prime number\n",
      "7 is a prime number\n",
      "11 is a prime number\n",
      "13 is a prime number\n",
      "17 is a prime number\n",
      "19 is a prime number\n",
      "23 is a prime number\n",
      "29 is a prime number\n",
      "31 is a prime number\n",
      "37 is a prime number\n",
      "41 is a prime number\n",
      "43 is a prime number\n",
      "47 is a prime number\n",
      "53 is a prime number\n",
      "59 is a prime number\n",
      "61 is a prime number\n",
      "67 is a prime number\n",
      "71 is a prime number\n",
      "73 is a prime number\n",
      "79 is a prime number\n",
      "83 is a prime number\n",
      "89 is a prime number\n",
      "97 is a prime number\n"
     ]
    },
    {
     "data": {
      "text/plain": [
       "25"
      ]
     },
     "execution_count": 154,
     "metadata": {},
     "output_type": "execute_result"
    }
   ],
   "source": [
    "count_primes(100)"
   ]
  },
  {
   "cell_type": "code",
   "execution_count": 147,
   "id": "df0a5860",
   "metadata": {},
   "outputs": [
    {
     "name": "stdout",
     "output_type": "stream",
     "text": [
      "2 is a prime number\n"
     ]
    }
   ],
   "source": [
    "num = 2\n",
    "  \n",
    "# If given number is greater than 1\n",
    "if num > 1:\n",
    "  \n",
    "    # Iterate from 2 to n / 2\n",
    "    for i in range(2, int(num/2)+1):\n",
    "  \n",
    "        # If num is divisible by any number between\n",
    "        # 2 and n / 2, it is not prime\n",
    "        if (num % i) == 0:\n",
    "            print(num, \"is not a prime number\")\n",
    "            break\n",
    "    else:\n",
    "        print(num, \"is a prime number\")\n",
    "  \n",
    "else:\n",
    "    print(num, \"is not a prime number\")"
   ]
  },
  {
   "cell_type": "code",
   "execution_count": 146,
   "id": "4042b5b1",
   "metadata": {},
   "outputs": [],
   "source": [
    "for i in range (2,2):\n",
    "    print(\"ok\")"
   ]
  },
  {
   "cell_type": "code",
   "execution_count": 155,
   "id": "f62fb1d7",
   "metadata": {},
   "outputs": [],
   "source": [
    "import math\n",
    "def vol(rad):\n",
    "    return (4/3)*(math.pi)*(rad**3)"
   ]
  },
  {
   "cell_type": "code",
   "execution_count": 156,
   "id": "2b30580e",
   "metadata": {},
   "outputs": [
    {
     "data": {
      "text/plain": [
       "33.510321638291124"
      ]
     },
     "execution_count": 156,
     "metadata": {},
     "output_type": "execute_result"
    }
   ],
   "source": [
    "vol(2)"
   ]
  },
  {
   "cell_type": "code",
   "execution_count": 157,
   "id": "d0f72acc",
   "metadata": {},
   "outputs": [],
   "source": [
    "def ren_check(num, low, high):\n",
    "    return low <= num <= high"
   ]
  },
  {
   "cell_type": "code",
   "execution_count": 158,
   "id": "237e8c9f",
   "metadata": {},
   "outputs": [
    {
     "data": {
      "text/plain": [
       "False"
      ]
     },
     "execution_count": 158,
     "metadata": {},
     "output_type": "execute_result"
    }
   ],
   "source": [
    "ren_check(2,5,7)"
   ]
  },
  {
   "cell_type": "code",
   "execution_count": 159,
   "id": "d499a839",
   "metadata": {},
   "outputs": [
    {
     "data": {
      "text/plain": [
       "True"
      ]
     },
     "execution_count": 159,
     "metadata": {},
     "output_type": "execute_result"
    }
   ],
   "source": [
    "ren_check(5,2,7)"
   ]
  },
  {
   "cell_type": "code",
   "execution_count": 165,
   "id": "5cfbc729",
   "metadata": {},
   "outputs": [],
   "source": [
    "def up_low(s):\n",
    "    count_up = 0\n",
    "    count_low = 0\n",
    "    for letter in s:\n",
    "        if letter.islower():\n",
    "            count_low += 1\n",
    "        elif letter.isupper():\n",
    "            count_up += 1\n",
    "    print(\"No. of Uppper Case characters : {}\".format(count_up))\n",
    "    print(\"No. of Lower Case characters : {}\".format(count_low))"
   ]
  },
  {
   "cell_type": "code",
   "execution_count": 166,
   "id": "a4d6b830",
   "metadata": {},
   "outputs": [
    {
     "name": "stdout",
     "output_type": "stream",
     "text": [
      "No. of Uppper Case characters : 4\n",
      "No. of Lower Case characters : 33\n"
     ]
    }
   ],
   "source": [
    "s = 'Hello Mr. Rogers, how are you this fine Tuesday?'\n",
    "up_low(s)"
   ]
  },
  {
   "cell_type": "code",
   "execution_count": 169,
   "id": "fccdf723",
   "metadata": {},
   "outputs": [],
   "source": [
    "def unique_list(lst):\n",
    "    unique_list = []\n",
    "    for item in lst:\n",
    "        if item not in unique_list:\n",
    "            unique_list.append(item)\n",
    "    return unique_list"
   ]
  },
  {
   "cell_type": "code",
   "execution_count": 170,
   "id": "bcae9871",
   "metadata": {},
   "outputs": [
    {
     "data": {
      "text/plain": [
       "[1, 2, 3, 4, 5]"
      ]
     },
     "execution_count": 170,
     "metadata": {},
     "output_type": "execute_result"
    }
   ],
   "source": [
    "unique_list([1,1,1,1,1,2,2,2,2,3,3,3,3,4,4,4,4,5,1,1,2,2])"
   ]
  },
  {
   "cell_type": "code",
   "execution_count": 178,
   "id": "0333f866",
   "metadata": {},
   "outputs": [],
   "source": [
    "def multiply(numbers):\n",
    "    total = 1\n",
    "    for number in numbers:\n",
    "        total *= number\n",
    "    return total"
   ]
  },
  {
   "cell_type": "code",
   "execution_count": 179,
   "id": "ef6f06f3",
   "metadata": {},
   "outputs": [
    {
     "data": {
      "text/plain": [
       "24"
      ]
     },
     "execution_count": 179,
     "metadata": {},
     "output_type": "execute_result"
    }
   ],
   "source": [
    "multiply([2,3,4])"
   ]
  },
  {
   "cell_type": "code",
   "execution_count": 189,
   "id": "b93f6b4b",
   "metadata": {},
   "outputs": [],
   "source": [
    "import string\n",
    "def ispangram(str):\n",
    "    alphabet = set(string.ascii_lowercase)\n",
    "#     print(alphabet)\n",
    "#     str_set = set(str.replace(\" \", \"\"))\n",
    "    print(str_set)\n",
    "    \n",
    "    if alphabet == str_set:\n",
    "        return True\n",
    "    else:\n",
    "        return False\n",
    "    "
   ]
  },
  {
   "cell_type": "code",
   "execution_count": 191,
   "id": "5bb89fac",
   "metadata": {},
   "outputs": [
    {
     "name": "stdout",
     "output_type": "stream",
     "text": [
      "{'n', 't', 'l', 'y', 'e', 'a', 'r', 'd', 'v', 'f', 'p', 'b', 'q', 'm', 'o', 'h', 'z', 'g', 'u', 'w', 'x', 'j', 'c', 'i', 'k', 's'}\n",
      "{'n', 't', 'l', 'y', 'e', 'a', 'r', 'd', 'v', 'f', 'p', 'b', 'q', 'm', 'o', 'h', 'z', 'g', 'u', 'w', 'x', 'j', 'c', 'i', 'k', 's'}\n"
     ]
    },
    {
     "data": {
      "text/plain": [
       "True"
      ]
     },
     "execution_count": 191,
     "metadata": {},
     "output_type": "execute_result"
    }
   ],
   "source": [
    "ispangram('abdadfcdefghijklmonpqrstuvwzyzasx')"
   ]
  },
  {
   "cell_type": "code",
   "execution_count": 188,
   "id": "d0dfea96",
   "metadata": {},
   "outputs": [
    {
     "data": {
      "text/plain": [
       "{'a',\n",
       " 'b',\n",
       " 'c',\n",
       " 'd',\n",
       " 'e',\n",
       " 'f',\n",
       " 'g',\n",
       " 'h',\n",
       " 'i',\n",
       " 'j',\n",
       " 'k',\n",
       " 'l',\n",
       " 'm',\n",
       " 'n',\n",
       " 'o',\n",
       " 'p',\n",
       " 'q',\n",
       " 'r',\n",
       " 's',\n",
       " 't',\n",
       " 'u',\n",
       " 'v',\n",
       " 'w',\n",
       " 'y',\n",
       " 'z'}"
      ]
     },
     "execution_count": 188,
     "metadata": {},
     "output_type": "execute_result"
    }
   ],
   "source": [
    "set('abdadfcdefghijklmonpqrstuvwzyzas')"
   ]
  },
  {
   "cell_type": "code",
   "execution_count": null,
   "id": "8b490e00",
   "metadata": {},
   "outputs": [],
   "source": []
  }
 ],
 "metadata": {
  "kernelspec": {
   "display_name": "Python 3 (ipykernel)",
   "language": "python",
   "name": "python3"
  },
  "language_info": {
   "codemirror_mode": {
    "name": "ipython",
    "version": 3
   },
   "file_extension": ".py",
   "mimetype": "text/x-python",
   "name": "python",
   "nbconvert_exporter": "python",
   "pygments_lexer": "ipython3",
   "version": "3.9.12"
  }
 },
 "nbformat": 4,
 "nbformat_minor": 5
}
