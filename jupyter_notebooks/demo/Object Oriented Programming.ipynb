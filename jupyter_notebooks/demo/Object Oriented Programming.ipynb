{
 "cells": [
  {
   "cell_type": "code",
   "execution_count": 28,
   "id": "b9ad6994",
   "metadata": {},
   "outputs": [],
   "source": [
    "class Sample:\n",
    "    breed = 0\n",
    "    def __init__(self):\n",
    "        pass\n",
    "    def print_breed(self, s):\n",
    "        print(self.breed + s)"
   ]
  },
  {
   "cell_type": "code",
   "execution_count": 29,
   "id": "34290474",
   "metadata": {},
   "outputs": [],
   "source": [
    "myclass = Sample()"
   ]
  },
  {
   "cell_type": "code",
   "execution_count": 6,
   "id": "c3fa45c0",
   "metadata": {},
   "outputs": [
    {
     "data": {
      "text/plain": [
       "__main__.Sample"
      ]
     },
     "execution_count": 6,
     "metadata": {},
     "output_type": "execute_result"
    }
   ],
   "source": [
    "type(myclass)"
   ]
  },
  {
   "cell_type": "code",
   "execution_count": 30,
   "id": "30674b2c",
   "metadata": {},
   "outputs": [
    {
     "name": "stdout",
     "output_type": "stream",
     "text": [
      "2\n"
     ]
    }
   ],
   "source": [
    "myclass.print_breed(2)"
   ]
  },
  {
   "cell_type": "code",
   "execution_count": 39,
   "id": "9ace2bfd",
   "metadata": {},
   "outputs": [],
   "source": [
    "class Account:\n",
    "    def __init__(self, owner, balance):\n",
    "        self.owner = owner\n",
    "        self.balance = balance\n",
    "        print(f\"Account owner: {self.owner}\")\n",
    "        print(f\"Account Balance: {self.balance}\")\n",
    "    \n",
    "    def deposit(self, amount):\n",
    "        \n",
    "        self.balance += amount\n",
    "        print(\"Deposit Accepted\")\n",
    "        \n",
    "    \n",
    "    def withdraw(self, amount):\n",
    "        if amount > self.balance:\n",
    "            print(\"Funds Unavailable!\")\n",
    "        else:\n",
    "            self.balance -= amount\n",
    "            print(\"Withdrawal Accepted\")\n",
    "    "
   ]
  },
  {
   "cell_type": "code",
   "execution_count": 40,
   "id": "86e767c2",
   "metadata": {},
   "outputs": [
    {
     "name": "stdout",
     "output_type": "stream",
     "text": [
      "Account owner: Jose\n",
      "Account Balance: 200\n"
     ]
    }
   ],
   "source": [
    "acct1 = Account('Jose', 200)"
   ]
  },
  {
   "cell_type": "code",
   "execution_count": 41,
   "id": "6a082bdf",
   "metadata": {},
   "outputs": [
    {
     "name": "stdout",
     "output_type": "stream",
     "text": [
      "Deposit Accepted\n"
     ]
    }
   ],
   "source": [
    "acct1.deposit(50)"
   ]
  },
  {
   "cell_type": "code",
   "execution_count": 42,
   "id": "a3a8a890",
   "metadata": {},
   "outputs": [
    {
     "data": {
      "text/plain": [
       "250"
      ]
     },
     "execution_count": 42,
     "metadata": {},
     "output_type": "execute_result"
    }
   ],
   "source": [
    "acct1.balance"
   ]
  },
  {
   "cell_type": "code",
   "execution_count": 43,
   "id": "c9fa311d",
   "metadata": {},
   "outputs": [
    {
     "name": "stdout",
     "output_type": "stream",
     "text": [
      "Withdrawal Accepted\n"
     ]
    }
   ],
   "source": [
    "acct1.withdraw(100)"
   ]
  },
  {
   "cell_type": "code",
   "execution_count": 44,
   "id": "8b244cce",
   "metadata": {},
   "outputs": [
    {
     "data": {
      "text/plain": [
       "150"
      ]
     },
     "execution_count": 44,
     "metadata": {},
     "output_type": "execute_result"
    }
   ],
   "source": [
    "acct1.balance"
   ]
  },
  {
   "cell_type": "code",
   "execution_count": 45,
   "id": "a6823658",
   "metadata": {},
   "outputs": [
    {
     "name": "stdout",
     "output_type": "stream",
     "text": [
      "Funds Unavailable!\n"
     ]
    }
   ],
   "source": [
    "acct1.withdraw(500)"
   ]
  },
  {
   "cell_type": "code",
   "execution_count": 50,
   "id": "8de07dfe",
   "metadata": {},
   "outputs": [],
   "source": [
    "value = bin(1041)[2:]"
   ]
  },
  {
   "cell_type": "code",
   "execution_count": 51,
   "id": "02b1b57e",
   "metadata": {},
   "outputs": [
    {
     "data": {
      "text/plain": [
       "'10000010001'"
      ]
     },
     "execution_count": 51,
     "metadata": {},
     "output_type": "execute_result"
    }
   ],
   "source": [
    "value"
   ]
  },
  {
   "cell_type": "code",
   "execution_count": 52,
   "id": "fb97e898",
   "metadata": {},
   "outputs": [
    {
     "data": {
      "text/plain": [
       "3"
      ]
     },
     "execution_count": 52,
     "metadata": {},
     "output_type": "execute_result"
    }
   ],
   "source": [
    "value.count('1')"
   ]
  },
  {
   "cell_type": "code",
   "execution_count": 53,
   "id": "6227b402",
   "metadata": {},
   "outputs": [
    {
     "data": {
      "text/plain": [
       "-1"
      ]
     },
     "execution_count": 53,
     "metadata": {},
     "output_type": "execute_result"
    }
   ],
   "source": [
    "(value.index('1', 2) - value.index('1', 1)) -1"
   ]
  },
  {
   "cell_type": "code",
   "execution_count": 54,
   "id": "b38abe0b",
   "metadata": {},
   "outputs": [
    {
     "data": {
      "text/plain": [
       "6"
      ]
     },
     "execution_count": 54,
     "metadata": {},
     "output_type": "execute_result"
    }
   ],
   "source": [
    "value.index('1', 2) "
   ]
  },
  {
   "cell_type": "code",
   "execution_count": 60,
   "id": "ec73951c",
   "metadata": {},
   "outputs": [
    {
     "data": {
      "text/plain": [
       "6"
      ]
     },
     "execution_count": 60,
     "metadata": {},
     "output_type": "execute_result"
    }
   ],
   "source": [
    "value.index('1',3)"
   ]
  },
  {
   "cell_type": "code",
   "execution_count": null,
   "id": "547d88ab",
   "metadata": {},
   "outputs": [],
   "source": [
    "value.index()"
   ]
  }
 ],
 "metadata": {
  "kernelspec": {
   "display_name": "Python 3 (ipykernel)",
   "language": "python",
   "name": "python3"
  },
  "language_info": {
   "codemirror_mode": {
    "name": "ipython",
    "version": 3
   },
   "file_extension": ".py",
   "mimetype": "text/x-python",
   "name": "python",
   "nbconvert_exporter": "python",
   "pygments_lexer": "ipython3",
   "version": "3.9.12"
  }
 },
 "nbformat": 4,
 "nbformat_minor": 5
}
